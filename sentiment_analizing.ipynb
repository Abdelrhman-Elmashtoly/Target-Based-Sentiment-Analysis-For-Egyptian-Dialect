{
  "metadata": {
    "kernelspec": {
      "language": "python",
      "display_name": "Python 3",
      "name": "python3"
    },
    "language_info": {
      "name": "python",
      "version": "3.7.12",
      "mimetype": "text/x-python",
      "codemirror_mode": {
        "name": "ipython",
        "version": 3
      },
      "pygments_lexer": "ipython3",
      "nbconvert_exporter": "python",
      "file_extension": ".py"
    },
    "colab": {
      "provenance": [],
      "include_colab_link": true
    }
  },
  "nbformat_minor": 0,
  "nbformat": 4,
  "cells": [
    {
      "cell_type": "markdown",
      "metadata": {
        "id": "view-in-github",
        "colab_type": "text"
      },
      "source": [
        "<a href=\"https://colab.research.google.com/github/Abdelrhman-Elmashtoly/Target-Based-Sentiment-Analysis-For-Egyptian-Dialect/blob/main/sentiment_analizing.ipynb\" target=\"_parent\"><img src=\"https://colab.research.google.com/assets/colab-badge.svg\" alt=\"Open In Colab\"/></a>"
      ]
    },
    {
      "cell_type": "markdown",
      "source": [
        "# PIP installion "
      ],
      "metadata": {
        "id": "I0rEFcN-Ak7k"
      }
    },
    {
      "cell_type": "code",
      "source": [
        "!pip install pyarabic\n",
        "!pip install emoji\n",
        "!pip install pystemmer\n",
        "!pip install optuna==2.3.0\n",
        "!pip install farasapy\n",
        "!pip install plotly==5.9.0\n",
        "!pip install emot\n",
        "!pip install transformers\n",
        "!git clone https://github.com/aub-mind/arabert.git\n",
        "!pip install arabic_reshaper\n",
        "!pip install bidi.algorithm"
      ],
      "metadata": {
        "execution": {
          "iopub.status.busy": "2023-01-05T19:31:39.625962Z",
          "iopub.execute_input": "2023-01-05T19:31:39.626755Z",
          "iopub.status.idle": "2023-01-05T19:33:57.877897Z",
          "shell.execute_reply.started": "2023-01-05T19:31:39.626649Z",
          "shell.execute_reply": "2023-01-05T19:33:57.876652Z"
        },
        "trusted": true,
        "id": "181cxDQ4Ak7n",
        "outputId": "19ca48b3-20ef-4915-f0bc-0e787cf3f13d"
      },
      "execution_count": null,
      "outputs": [
        {
          "name": "stdout",
          "text": "Requirement already satisfied: pyarabic in /opt/conda/lib/python3.7/site-packages (0.6.15)\nRequirement already satisfied: six>=1.14.0 in /opt/conda/lib/python3.7/site-packages (from pyarabic) (1.15.0)\n\u001b[33mWARNING: Running pip as the 'root' user can result in broken permissions and conflicting behaviour with the system package manager. It is recommended to use a virtual environment instead: https://pip.pypa.io/warnings/venv\u001b[0m\u001b[33m\n\u001b[0mRequirement already satisfied: emoji in /opt/conda/lib/python3.7/site-packages (2.2.0)\n\u001b[33mWARNING: Running pip as the 'root' user can result in broken permissions and conflicting behaviour with the system package manager. It is recommended to use a virtual environment instead: https://pip.pypa.io/warnings/venv\u001b[0m\u001b[33m\n\u001b[0mCollecting pystemmer\n  Downloading PyStemmer-2.2.0.tar.gz (698 kB)\n\u001b[2K     \u001b[90m━━━━━━━━━━━━━━━━━━━━━━━━━━━━━━━━━━━━━━━\u001b[0m \u001b[32m698.7/698.7 kB\u001b[0m \u001b[31m2.8 MB/s\u001b[0m eta \u001b[36m0:00:00\u001b[0ma \u001b[36m0:00:01\u001b[0m\n\u001b[?25h  Preparing metadata (setup.py) ... \u001b[?25lerror\n  \u001b[1;31merror\u001b[0m: \u001b[1msubprocess-exited-with-error\u001b[0m\n  \n  \u001b[31m×\u001b[0m \u001b[32mpython setup.py egg_info\u001b[0m did not run successfully.\n  \u001b[31m│\u001b[0m exit code: \u001b[1;36m1\u001b[0m\n  \u001b[31m╰─>\u001b[0m \u001b[31m[10 lines of output]\u001b[0m\n  \u001b[31m   \u001b[0m Traceback (most recent call last):\n  \u001b[31m   \u001b[0m   File \"<string>\", line 36, in <module>\n  \u001b[31m   \u001b[0m   File \"<pip-setuptools-caller>\", line 34, in <module>\n  \u001b[31m   \u001b[0m   File \"/tmp/pip-install-k_cyqkzh/pystemmer_b4f4df7809a24335b94013c4e9a1ac1a/setup.py\", line 199, in <module>\n  \u001b[31m   \u001b[0m     ['src/Stemmer.pyx'] + list(LIBRARY_SOURCE_CODE.source_code_paths()),\n  \u001b[31m   \u001b[0m   File \"/tmp/pip-install-k_cyqkzh/pystemmer_b4f4df7809a24335b94013c4e9a1ac1a/setup.py\", line 85, in source_code_paths\n  \u001b[31m   \u001b[0m     for line in self.iter_manifest_lines():\n  \u001b[31m   \u001b[0m   File \"/tmp/pip-install-k_cyqkzh/pystemmer_b4f4df7809a24335b94013c4e9a1ac1a/setup.py\", line 74, in iter_manifest_lines\n  \u001b[31m   \u001b[0m     with open(self.manifest_file_path) as file:\n  \u001b[31m   \u001b[0m FileNotFoundError: [Errno 2] No such file or directory: 'libstemmer_c-2.2.0/mkinc_utf8.mak'\n  \u001b[31m   \u001b[0m \u001b[31m[end of output]\u001b[0m\n  \n  \u001b[1;35mnote\u001b[0m: This error originates from a subprocess, and is likely not a problem with pip.\n\u001b[1;31merror\u001b[0m: \u001b[1mmetadata-generation-failed\u001b[0m\n\n\u001b[31m×\u001b[0m Encountered error while generating package metadata.\n\u001b[31m╰─>\u001b[0m See above for output.\n\n\u001b[1;35mnote\u001b[0m: This is an issue with the package mentioned above, not pip.\n\u001b[1;36mhint\u001b[0m: See above for details.\n\u001b[?25hCollecting optuna==2.3.0\n  Downloading optuna-2.3.0.tar.gz (258 kB)\n\u001b[2K     \u001b[90m━━━━━━━━━━━━━━━━━━━━━━━━━━━━━━━━━━━━━━━\u001b[0m \u001b[32m258.6/258.6 kB\u001b[0m \u001b[31m1.4 MB/s\u001b[0m eta \u001b[36m0:00:00\u001b[0m00:01\u001b[0m00:01\u001b[0m\n\u001b[?25h  Installing build dependencies ... \u001b[?25ldone\n\u001b[?25h  Getting requirements to build wheel ... \u001b[?25ldone\n\u001b[?25h  Preparing metadata (pyproject.toml) ... \u001b[?25ldone\n\u001b[?25hRequirement already satisfied: cmaes>=0.6.0 in /opt/conda/lib/python3.7/site-packages (from optuna==2.3.0) (0.9.0)\nRequirement already satisfied: tqdm in /opt/conda/lib/python3.7/site-packages (from optuna==2.3.0) (4.64.0)\nRequirement already satisfied: numpy in /opt/conda/lib/python3.7/site-packages (from optuna==2.3.0) (1.21.6)\nRequirement already satisfied: joblib in /opt/conda/lib/python3.7/site-packages (from optuna==2.3.0) (1.0.1)\nRequirement already satisfied: scipy!=1.4.0 in /opt/conda/lib/python3.7/site-packages (from optuna==2.3.0) (1.7.3)\nRequirement already satisfied: colorlog in /opt/conda/lib/python3.7/site-packages (from optuna==2.3.0) (6.7.0)\nRequirement already satisfied: sqlalchemy>=1.1.0 in /opt/conda/lib/python3.7/site-packages (from optuna==2.3.0) (1.4.39)\nRequirement already satisfied: alembic in /opt/conda/lib/python3.7/site-packages (from optuna==2.3.0) (1.8.1)\nRequirement already satisfied: cliff in /opt/conda/lib/python3.7/site-packages (from optuna==2.3.0) (3.10.1)\nRequirement already satisfied: packaging>=20.0 in /opt/conda/lib/python3.7/site-packages (from optuna==2.3.0) (21.3)\nRequirement already satisfied: pyparsing!=3.0.5,>=2.0.2 in /opt/conda/lib/python3.7/site-packages (from packaging>=20.0->optuna==2.3.0) (3.0.9)\nRequirement already satisfied: greenlet!=0.4.17 in /opt/conda/lib/python3.7/site-packages (from sqlalchemy>=1.1.0->optuna==2.3.0) (1.1.2)\nRequirement already satisfied: importlib-metadata in /opt/conda/lib/python3.7/site-packages (from sqlalchemy>=1.1.0->optuna==2.3.0) (4.13.0)\nRequirement already satisfied: Mako in /opt/conda/lib/python3.7/site-packages (from alembic->optuna==2.3.0) (1.2.4)\nRequirement already satisfied: importlib-resources in /opt/conda/lib/python3.7/site-packages (from alembic->optuna==2.3.0) (5.8.0)\nRequirement already satisfied: PyYAML>=3.12 in /opt/conda/lib/python3.7/site-packages (from cliff->optuna==2.3.0) (6.0)\nRequirement already satisfied: autopage>=0.4.0 in /opt/conda/lib/python3.7/site-packages (from cliff->optuna==2.3.0) (0.5.1)\nRequirement already satisfied: stevedore>=2.0.1 in /opt/conda/lib/python3.7/site-packages (from cliff->optuna==2.3.0) (3.5.2)\nRequirement already satisfied: pbr!=2.1.0,>=2.0.0 in /opt/conda/lib/python3.7/site-packages (from cliff->optuna==2.3.0) (5.11.0)\nRequirement already satisfied: cmd2>=1.0.0 in /opt/conda/lib/python3.7/site-packages (from cliff->optuna==2.3.0) (2.4.2)\nRequirement already satisfied: PrettyTable>=0.7.2 in /opt/conda/lib/python3.7/site-packages (from cliff->optuna==2.3.0) (3.3.0)\nRequirement already satisfied: attrs>=16.3.0 in /opt/conda/lib/python3.7/site-packages (from cmd2>=1.0.0->cliff->optuna==2.3.0) (21.4.0)\nRequirement already satisfied: typing-extensions in /opt/conda/lib/python3.7/site-packages (from cmd2>=1.0.0->cliff->optuna==2.3.0) (4.1.1)\nRequirement already satisfied: wcwidth>=0.1.7 in /opt/conda/lib/python3.7/site-packages (from cmd2>=1.0.0->cliff->optuna==2.3.0) (0.2.5)\nRequirement already satisfied: pyperclip>=1.6 in /opt/conda/lib/python3.7/site-packages (from cmd2>=1.0.0->cliff->optuna==2.3.0) (1.8.2)\nRequirement already satisfied: zipp>=0.5 in /opt/conda/lib/python3.7/site-packages (from importlib-metadata->sqlalchemy>=1.1.0->optuna==2.3.0) (3.8.0)\nRequirement already satisfied: MarkupSafe>=0.9.2 in /opt/conda/lib/python3.7/site-packages (from Mako->alembic->optuna==2.3.0) (2.1.1)\nBuilding wheels for collected packages: optuna\n  Building wheel for optuna (pyproject.toml) ... \u001b[?25ldone\n\u001b[?25h  Created wheel for optuna: filename=optuna-2.3.0-py3-none-any.whl size=359755 sha256=c679a2e5794acad36f1b83051d76809f22efdff81f239d7243d7f0f3f85c454f\n  Stored in directory: /root/.cache/pip/wheels/38/61/9e/955ab1890f6cab231b1d756db63f36c711968a324296e0b649\nSuccessfully built optuna\nInstalling collected packages: optuna\n  Attempting uninstall: optuna\n    Found existing installation: optuna 3.0.4\n    Uninstalling optuna-3.0.4:\n      Successfully uninstalled optuna-3.0.4\nSuccessfully installed optuna-2.3.0\n\u001b[33mWARNING: Running pip as the 'root' user can result in broken permissions and conflicting behaviour with the system package manager. It is recommended to use a virtual environment instead: https://pip.pypa.io/warnings/venv\u001b[0m\u001b[33m\n\u001b[0mCollecting farasapy\n  Downloading farasapy-0.0.14-py3-none-any.whl (11 kB)\nRequirement already satisfied: tqdm in /opt/conda/lib/python3.7/site-packages (from farasapy) (4.64.0)\nRequirement already satisfied: requests in /opt/conda/lib/python3.7/site-packages (from farasapy) (2.28.1)\nRequirement already satisfied: idna<4,>=2.5 in /opt/conda/lib/python3.7/site-packages (from requests->farasapy) (3.3)\nRequirement already satisfied: certifi>=2017.4.17 in /opt/conda/lib/python3.7/site-packages (from requests->farasapy) (2022.9.24)\nRequirement already satisfied: charset-normalizer<3,>=2 in /opt/conda/lib/python3.7/site-packages (from requests->farasapy) (2.1.0)\nRequirement already satisfied: urllib3<1.27,>=1.21.1 in /opt/conda/lib/python3.7/site-packages (from requests->farasapy) (1.26.13)\nInstalling collected packages: farasapy\nSuccessfully installed farasapy-0.0.14\n\u001b[33mWARNING: Running pip as the 'root' user can result in broken permissions and conflicting behaviour with the system package manager. It is recommended to use a virtual environment instead: https://pip.pypa.io/warnings/venv\u001b[0m\u001b[33m\n\u001b[0mCollecting plotly==5.9.0\n  Downloading plotly-5.9.0-py2.py3-none-any.whl (15.2 MB)\n\u001b[2K     \u001b[90m━━━━━━━━━━━━━━━━━━━━━━━━━━━━━━━━━━━━━━━━\u001b[0m \u001b[32m15.2/15.2 MB\u001b[0m \u001b[31m36.4 MB/s\u001b[0m eta \u001b[36m0:00:00\u001b[0m00:01\u001b[0m00:01\u001b[0m\n\u001b[?25hRequirement already satisfied: tenacity>=6.2.0 in /opt/conda/lib/python3.7/site-packages (from plotly==5.9.0) (8.0.1)\nInstalling collected packages: plotly\n  Attempting uninstall: plotly\n    Found existing installation: plotly 5.11.0\n    Uninstalling plotly-5.11.0:\n      Successfully uninstalled plotly-5.11.0\nSuccessfully installed plotly-5.9.0\n\u001b[33mWARNING: Running pip as the 'root' user can result in broken permissions and conflicting behaviour with the system package manager. It is recommended to use a virtual environment instead: https://pip.pypa.io/warnings/venv\u001b[0m\u001b[33m\n\u001b[0mCollecting emot\n  Downloading emot-3.1-py3-none-any.whl (61 kB)\n\u001b[2K     \u001b[90m━━━━━━━━━━━━━━━━━━━━━━━━━━━━━━━━━━━━━━━\u001b[0m \u001b[32m61.5/61.5 kB\u001b[0m \u001b[31m720.1 kB/s\u001b[0m eta \u001b[36m0:00:00\u001b[0m00:01\u001b[0m0:01\u001b[0m\n\u001b[?25hInstalling collected packages: emot\nSuccessfully installed emot-3.1\n\u001b[33mWARNING: Running pip as the 'root' user can result in broken permissions and conflicting behaviour with the system package manager. It is recommended to use a virtual environment instead: https://pip.pypa.io/warnings/venv\u001b[0m\u001b[33m\n\u001b[0mRequirement already satisfied: transformers in /opt/conda/lib/python3.7/site-packages (4.20.1)\nRequirement already satisfied: packaging>=20.0 in /opt/conda/lib/python3.7/site-packages (from transformers) (21.3)\nRequirement already satisfied: importlib-metadata in /opt/conda/lib/python3.7/site-packages (from transformers) (4.13.0)\nRequirement already satisfied: filelock in /opt/conda/lib/python3.7/site-packages (from transformers) (3.7.1)\nRequirement already satisfied: requests in /opt/conda/lib/python3.7/site-packages (from transformers) (2.28.1)\nRequirement already satisfied: tqdm>=4.27 in /opt/conda/lib/python3.7/site-packages (from transformers) (4.64.0)\nRequirement already satisfied: tokenizers!=0.11.3,<0.13,>=0.11.1 in /opt/conda/lib/python3.7/site-packages (from transformers) (0.12.1)\nRequirement already satisfied: huggingface-hub<1.0,>=0.1.0 in /opt/conda/lib/python3.7/site-packages (from transformers) (0.10.1)\nRequirement already satisfied: numpy>=1.17 in /opt/conda/lib/python3.7/site-packages (from transformers) (1.21.6)\nRequirement already satisfied: regex!=2019.12.17 in /opt/conda/lib/python3.7/site-packages (from transformers) (2021.11.10)\nRequirement already satisfied: pyyaml>=5.1 in /opt/conda/lib/python3.7/site-packages (from transformers) (6.0)\nRequirement already satisfied: typing-extensions>=3.7.4.3 in /opt/conda/lib/python3.7/site-packages (from huggingface-hub<1.0,>=0.1.0->transformers) (4.1.1)\nRequirement already satisfied: pyparsing!=3.0.5,>=2.0.2 in /opt/conda/lib/python3.7/site-packages (from packaging>=20.0->transformers) (3.0.9)\nRequirement already satisfied: zipp>=0.5 in /opt/conda/lib/python3.7/site-packages (from importlib-metadata->transformers) (3.8.0)\nRequirement already satisfied: charset-normalizer<3,>=2 in /opt/conda/lib/python3.7/site-packages (from requests->transformers) (2.1.0)\nRequirement already satisfied: urllib3<1.27,>=1.21.1 in /opt/conda/lib/python3.7/site-packages (from requests->transformers) (1.26.13)\nRequirement already satisfied: certifi>=2017.4.17 in /opt/conda/lib/python3.7/site-packages (from requests->transformers) (2022.9.24)\nRequirement already satisfied: idna<4,>=2.5 in /opt/conda/lib/python3.7/site-packages (from requests->transformers) (3.3)\n\u001b[33mWARNING: Running pip as the 'root' user can result in broken permissions and conflicting behaviour with the system package manager. It is recommended to use a virtual environment instead: https://pip.pypa.io/warnings/venv\u001b[0m\u001b[33m\n\u001b[0mCloning into 'arabert'...\nremote: Enumerating objects: 600, done.\u001b[K\nremote: Counting objects: 100% (65/65), done.\u001b[K\nremote: Compressing objects: 100% (33/33), done.\u001b[K\nremote: Total 600 (delta 38), reused 45 (delta 30), pack-reused 535\u001b[K\nReceiving objects: 100% (600/600), 9.14 MiB | 16.87 MiB/s, done.\nResolving deltas: 100% (339/339), done.\nCollecting arabic_reshaper\n  Downloading arabic_reshaper-2.1.4-py3-none-any.whl (20 kB)\nRequirement already satisfied: future in /opt/conda/lib/python3.7/site-packages (from arabic_reshaper) (0.18.2)\nInstalling collected packages: arabic_reshaper\nSuccessfully installed arabic_reshaper-2.1.4\n\u001b[33mWARNING: Running pip as the 'root' user can result in broken permissions and conflicting behaviour with the system package manager. It is recommended to use a virtual environment instead: https://pip.pypa.io/warnings/venv\u001b[0m\u001b[33m\n\u001b[0m\u001b[31mERROR: Could not find a version that satisfies the requirement bidi.algorithm (from versions: none)\u001b[0m\u001b[31m\n\u001b[0m\u001b[31mERROR: No matching distribution found for bidi.algorithm\u001b[0m\u001b[31m\n\u001b[0m",
          "output_type": "stream"
        }
      ]
    },
    {
      "cell_type": "code",
      "source": [
        "!pip uninstall emoji --yes"
      ],
      "metadata": {
        "execution": {
          "iopub.status.busy": "2023-01-05T19:33:57.880485Z",
          "iopub.execute_input": "2023-01-05T19:33:57.880863Z",
          "iopub.status.idle": "2023-01-05T19:33:59.746549Z",
          "shell.execute_reply.started": "2023-01-05T19:33:57.880825Z",
          "shell.execute_reply": "2023-01-05T19:33:59.745248Z"
        },
        "trusted": true,
        "id": "dWWg1T0oAk7r",
        "outputId": "56537f36-5f87-4626-fe21-126d76e0d717"
      },
      "execution_count": null,
      "outputs": [
        {
          "name": "stdout",
          "text": "Found existing installation: emoji 2.2.0\nUninstalling emoji-2.2.0:\n  Successfully uninstalled emoji-2.2.0\n\u001b[33mWARNING: Running pip as the 'root' user can result in broken permissions and conflicting behaviour with the system package manager. It is recommended to use a virtual environment instead: https://pip.pypa.io/warnings/venv\u001b[0m\u001b[33m\n\u001b[0m",
          "output_type": "stream"
        }
      ]
    },
    {
      "cell_type": "code",
      "source": [
        "!pip install emoji==1.7 "
      ],
      "metadata": {
        "execution": {
          "iopub.status.busy": "2023-01-05T19:33:59.748244Z",
          "iopub.execute_input": "2023-01-05T19:33:59.748666Z",
          "iopub.status.idle": "2023-01-05T19:34:11.706236Z",
          "shell.execute_reply.started": "2023-01-05T19:33:59.748633Z",
          "shell.execute_reply": "2023-01-05T19:34:11.704861Z"
        },
        "trusted": true,
        "id": "S1ifC0kkAk7t",
        "outputId": "de0df3bd-9b87-452f-d4f4-fafe9eb6b7ea"
      },
      "execution_count": null,
      "outputs": [
        {
          "name": "stdout",
          "text": "Collecting emoji==1.7\n  Downloading emoji-1.7.0.tar.gz (175 kB)\n\u001b[2K     \u001b[90m━━━━━━━━━━━━━━━━━━━━━━━━━━━━━━━━━━━━━━━\u001b[0m \u001b[32m175.4/175.4 kB\u001b[0m \u001b[31m1.2 MB/s\u001b[0m eta \u001b[36m0:00:00\u001b[0ma \u001b[36m0:00:01\u001b[0m\n\u001b[?25h  Preparing metadata (setup.py) ... \u001b[?25ldone\n\u001b[?25hBuilding wheels for collected packages: emoji\n  Building wheel for emoji (setup.py) ... \u001b[?25ldone\n\u001b[?25h  Created wheel for emoji: filename=emoji-1.7.0-py3-none-any.whl size=171046 sha256=dce5510572fadec17b4debd7370ca0d4ffd69d4ff4a6be8677fee7114796c684\n  Stored in directory: /root/.cache/pip/wheels/8a/4e/b6/57b01db010d17ef6ea9b40300af725ef3e210cb1acfb7ac8b6\nSuccessfully built emoji\nInstalling collected packages: emoji\nSuccessfully installed emoji-1.7.0\n\u001b[33mWARNING: Running pip as the 'root' user can result in broken permissions and conflicting behaviour with the system package manager. It is recommended to use a virtual environment instead: https://pip.pypa.io/warnings/venv\u001b[0m\u001b[33m\n\u001b[0m",
          "output_type": "stream"
        }
      ]
    },
    {
      "cell_type": "markdown",
      "source": [
        "# Libraries"
      ],
      "metadata": {
        "id": "bRAZ-NMNAk7t"
      }
    },
    {
      "cell_type": "code",
      "source": [
        "import numpy as np\n",
        "import pandas as pd\n",
        "import os\n",
        "import matplotlib.pyplot as plt \n",
        "import seaborn as sns\n",
        "from emot.emo_unicode import UNICODE_EMOJI ,EMOJI_UNICODE, EMOTICONS_EMO\n",
        "import re\n",
        "import string\n",
        "import plotly.graph_objects as go\n",
        "from plotly.offline import init_notebook_mode, iplot\n",
        "from arabert.preprocess import ArabertPreprocessor\n",
        "from transformers import AutoTokenizer, AutoModel, AutoModelForSequenceClassification,BertForSequenceClassification, AutoModelForMaskedLM,BertForPreTraining \n",
        "init_notebook_mode(connected=True)  \n",
        "\n",
        "import arabic_reshaper\n",
        "from sklearn import preprocessing\n",
        "import tensorflow as tf\n",
        "import torch\n",
        "from torch.utils.data import TensorDataset, DataLoader\n",
        "from sklearn.model_selection import train_test_split\n",
        "from keras_preprocessing.sequence import pad_sequences\n",
        "\n",
        "# from sklearn.svm import SVC\n",
        "# from sklearn.ensemble import RandomForestClassifier\n",
        "# from sklearn.tree import DecisionTreeClassifier \n",
        "# from sklearn.neighbors import KNeighborsClassifier\n",
        "# from sklearn.naive_bayes import MultinomialNB\n",
        "# from sklearn.model_selection import cross_val_score\n",
        "# from sklearn.feature_extraction.text import TfidfVectorizer\n",
        "from sklearn.model_selection import train_test_split\n",
        "# from sklearn.feature_extraction.text import CountVectorizer\n",
        "# from sklearn.model_selection import validation_curve\n",
        "# from sklearn.metrics import ConfusionMatrixDisplay\n",
        "# from sklearn.linear_model import LogisticRegression\n",
        "# from sklearn.ensemble import GradientBoostingClassifier\n",
        "# from wordcloud import WordCloud\n",
        "# from sklearn.feature_extraction.text import TfidfVectorizer\n",
        "# from sklearn.feature_extraction.text import CountVectorizer\n",
        "import time"
      ],
      "metadata": {
        "execution": {
          "iopub.status.busy": "2023-01-05T19:34:11.718470Z",
          "iopub.execute_input": "2023-01-05T19:34:11.718840Z",
          "iopub.status.idle": "2023-01-05T19:34:20.394119Z",
          "shell.execute_reply.started": "2023-01-05T19:34:11.718802Z",
          "shell.execute_reply": "2023-01-05T19:34:20.393105Z"
        },
        "trusted": true,
        "id": "azIveK51Ak7u",
        "outputId": "55b9387f-ad5d-4fc5-eb1c-ed8fd28fc3b1"
      },
      "execution_count": null,
      "outputs": [
        {
          "output_type": "display_data",
          "data": {
            "text/html": "        <script type=\"text/javascript\">\n        window.PlotlyConfig = {MathJaxConfig: 'local'};\n        if (window.MathJax && window.MathJax.Hub && window.MathJax.Hub.Config) {window.MathJax.Hub.Config({SVG: {font: \"STIX-Web\"}});}\n        if (typeof require !== 'undefined') {\n        require.undef(\"plotly\");\n        requirejs.config({\n            paths: {\n                'plotly': ['https://cdn.plot.ly/plotly-2.12.1.min']\n            }\n        });\n        require(['plotly'], function(Plotly) {\n            window._Plotly = Plotly;\n        });\n        }\n        </script>\n        "
          },
          "metadata": {}
        }
      ]
    },
    {
      "cell_type": "markdown",
      "source": [
        "# Import Pretrained model"
      ],
      "metadata": {
        "id": "4tu_a3ibAk7w"
      }
    },
    {
      "cell_type": "code",
      "source": [
        "model1_name=\"aubmindlab/bert-base-arabertv02-twitter\"\n",
        "model2_name=\"aubmindlab/aragpt2-mega\"\n",
        "model3_name='aubmindlab/bert-base-arabertv02'\n",
        "model4_name='aubmindlab/bert-large-arabertv02-twitter'\n",
        "model5_name='aubmindlab/bert-base-arabertv2'\n",
        "model6_name='UBC-NLP/MARBERT'\n",
        "\n",
        "arabert_prep = ArabertPreprocessor(model_name=model1_name)\n",
        "\n",
        "tokenizer = AutoTokenizer.from_pretrained(model1_name)\n",
        "deep_model = AutoModelForSequenceClassification.from_pretrained(model1_name, num_labels=3)"
      ],
      "metadata": {
        "execution": {
          "iopub.status.busy": "2023-01-05T19:34:20.395581Z",
          "iopub.execute_input": "2023-01-05T19:34:20.398060Z",
          "iopub.status.idle": "2023-01-05T19:34:53.311204Z",
          "shell.execute_reply.started": "2023-01-05T19:34:20.398029Z",
          "shell.execute_reply": "2023-01-05T19:34:53.310134Z"
        },
        "trusted": true,
        "id": "6MBtNW_jAk7w",
        "outputId": "7dbbe699-f230-41a3-b6d4-4e896e1e32d7",
        "colab": {
          "referenced_widgets": [
            "0b8cc17853c04b009d2cf80698d997fd",
            "16b2d133f2084f52b47a0fc362672a0a",
            "11337690be974973868849f7a519f9cf",
            "731cf71a22ae4a8b8340078c167b676d",
            "232bf45abaed4732b957b47e45d1fd42",
            "63027ff4206c435aa832de04ea679977"
          ]
        }
      },
      "execution_count": null,
      "outputs": [
        {
          "output_type": "display_data",
          "data": {
            "text/plain": "Downloading:   0%|          | 0.00/476 [00:00<?, ?B/s]",
            "application/vnd.jupyter.widget-view+json": {
              "version_major": 2,
              "version_minor": 0,
              "model_id": "0b8cc17853c04b009d2cf80698d997fd"
            }
          },
          "metadata": {}
        },
        {
          "output_type": "display_data",
          "data": {
            "text/plain": "Downloading:   0%|          | 0.00/733k [00:00<?, ?B/s]",
            "application/vnd.jupyter.widget-view+json": {
              "version_major": 2,
              "version_minor": 0,
              "model_id": "16b2d133f2084f52b47a0fc362672a0a"
            }
          },
          "metadata": {}
        },
        {
          "output_type": "display_data",
          "data": {
            "text/plain": "Downloading:   0%|          | 0.00/1.19M [00:00<?, ?B/s]",
            "application/vnd.jupyter.widget-view+json": {
              "version_major": 2,
              "version_minor": 0,
              "model_id": "11337690be974973868849f7a519f9cf"
            }
          },
          "metadata": {}
        },
        {
          "output_type": "display_data",
          "data": {
            "text/plain": "Downloading:   0%|          | 0.00/112 [00:00<?, ?B/s]",
            "application/vnd.jupyter.widget-view+json": {
              "version_major": 2,
              "version_minor": 0,
              "model_id": "731cf71a22ae4a8b8340078c167b676d"
            }
          },
          "metadata": {}
        },
        {
          "output_type": "display_data",
          "data": {
            "text/plain": "Downloading:   0%|          | 0.00/667 [00:00<?, ?B/s]",
            "application/vnd.jupyter.widget-view+json": {
              "version_major": 2,
              "version_minor": 0,
              "model_id": "232bf45abaed4732b957b47e45d1fd42"
            }
          },
          "metadata": {}
        },
        {
          "output_type": "display_data",
          "data": {
            "text/plain": "Downloading:   0%|          | 0.00/516M [00:00<?, ?B/s]",
            "application/vnd.jupyter.widget-view+json": {
              "version_major": 2,
              "version_minor": 0,
              "model_id": "63027ff4206c435aa832de04ea679977"
            }
          },
          "metadata": {}
        },
        {
          "name": "stderr",
          "text": "Some weights of the model checkpoint at aubmindlab/bert-base-arabertv02-twitter were not used when initializing BertForSequenceClassification: ['cls.predictions.transform.dense.weight', 'cls.predictions.decoder.bias', 'cls.predictions.transform.dense.bias', 'cls.predictions.transform.LayerNorm.weight', 'cls.predictions.decoder.weight', 'cls.predictions.bias', 'cls.predictions.transform.LayerNorm.bias']\n- This IS expected if you are initializing BertForSequenceClassification from the checkpoint of a model trained on another task or with another architecture (e.g. initializing a BertForSequenceClassification model from a BertForPreTraining model).\n- This IS NOT expected if you are initializing BertForSequenceClassification from the checkpoint of a model that you expect to be exactly identical (initializing a BertForSequenceClassification model from a BertForSequenceClassification model).\nSome weights of BertForSequenceClassification were not initialized from the model checkpoint at aubmindlab/bert-base-arabertv02-twitter and are newly initialized: ['bert.pooler.dense.bias', 'classifier.bias', 'classifier.weight', 'bert.pooler.dense.weight']\nYou should probably TRAIN this model on a down-stream task to be able to use it for predictions and inference.\n",
          "output_type": "stream"
        }
      ]
    },
    {
      "cell_type": "markdown",
      "source": [
        "# Reading Data"
      ],
      "metadata": {
        "id": "RYiXakGTAk7x"
      }
    },
    {
      "cell_type": "code",
      "source": [
        "data= pd.read_csv(\"/kaggle/input/TrainData/Hotel_data_7.csv\")\n",
        "data.columns = ['text','target','polarity']\n",
        "data"
      ],
      "metadata": {
        "execution": {
          "iopub.status.busy": "2023-01-05T19:34:53.312651Z",
          "iopub.execute_input": "2023-01-05T19:34:53.314182Z",
          "iopub.status.idle": "2023-01-05T19:34:53.480326Z",
          "shell.execute_reply.started": "2023-01-05T19:34:53.314143Z",
          "shell.execute_reply": "2023-01-05T19:34:53.479336Z"
        },
        "trusted": true,
        "id": "F3in2l4oAk7x",
        "outputId": "4bceac43-8eee-4760-c6b7-c5cd568181fe"
      },
      "execution_count": null,
      "outputs": [
        {
          "execution_count": 6,
          "output_type": "execute_result",
          "data": {
            "text/plain": "                                                    text         target  \\\n0      أنصح بالنوم وليس تناول الطعام  موقع مثالي للإق...           موقع   \n1      كانت الغرفة ممتازة وكذلك الموظفون وبوفيه الإفط...         الغرفة   \n2      كانت الغرفة ممتازة وكذلك الموظفون وبوفيه الإفط...       الموظفون   \n3      كانت الغرفة ممتازة وكذلك الموظفون وبوفيه الإفط...  بوفيه الإفطار   \n4      كانت الغرفة ممتازة وكذلك الموظفون وبوفيه الإفط...    وجبة العشاء   \n...                                                  ...            ...   \n20162  ' @wasfa_N الجمال مبيحتاح اي مكياج لناعم وله خ...            NaN   \n20163  ' @TheMurexDor نتمني وجود الفنانة رنا سماحة اف...            NaN   \n20164  ' ولد الهدى فالكائنات ضياء .. وفم الزمان تبسم ...            NaN   \n20165  ' @mohamed71944156 @samarroshdy1 انت متناقض جد...            NaN   \n20166  ' منطقة السيدة زينب ليلة المولد @ مسجد السيدة ...            NaN   \n\n       polarity  \n0             1  \n1             1  \n2             1  \n3             1  \n4            -1  \n...         ...  \n20162         0  \n20163         0  \n20164         1  \n20165        -1  \n20166         0  \n\n[20167 rows x 3 columns]",
            "text/html": "<div>\n<style scoped>\n    .dataframe tbody tr th:only-of-type {\n        vertical-align: middle;\n    }\n\n    .dataframe tbody tr th {\n        vertical-align: top;\n    }\n\n    .dataframe thead th {\n        text-align: right;\n    }\n</style>\n<table border=\"1\" class=\"dataframe\">\n  <thead>\n    <tr style=\"text-align: right;\">\n      <th></th>\n      <th>text</th>\n      <th>target</th>\n      <th>polarity</th>\n    </tr>\n  </thead>\n  <tbody>\n    <tr>\n      <th>0</th>\n      <td>أنصح بالنوم وليس تناول الطعام  موقع مثالي للإق...</td>\n      <td>موقع</td>\n      <td>1</td>\n    </tr>\n    <tr>\n      <th>1</th>\n      <td>كانت الغرفة ممتازة وكذلك الموظفون وبوفيه الإفط...</td>\n      <td>الغرفة</td>\n      <td>1</td>\n    </tr>\n    <tr>\n      <th>2</th>\n      <td>كانت الغرفة ممتازة وكذلك الموظفون وبوفيه الإفط...</td>\n      <td>الموظفون</td>\n      <td>1</td>\n    </tr>\n    <tr>\n      <th>3</th>\n      <td>كانت الغرفة ممتازة وكذلك الموظفون وبوفيه الإفط...</td>\n      <td>بوفيه الإفطار</td>\n      <td>1</td>\n    </tr>\n    <tr>\n      <th>4</th>\n      <td>كانت الغرفة ممتازة وكذلك الموظفون وبوفيه الإفط...</td>\n      <td>وجبة العشاء</td>\n      <td>-1</td>\n    </tr>\n    <tr>\n      <th>...</th>\n      <td>...</td>\n      <td>...</td>\n      <td>...</td>\n    </tr>\n    <tr>\n      <th>20162</th>\n      <td>' @wasfa_N الجمال مبيحتاح اي مكياج لناعم وله خ...</td>\n      <td>NaN</td>\n      <td>0</td>\n    </tr>\n    <tr>\n      <th>20163</th>\n      <td>' @TheMurexDor نتمني وجود الفنانة رنا سماحة اف...</td>\n      <td>NaN</td>\n      <td>0</td>\n    </tr>\n    <tr>\n      <th>20164</th>\n      <td>' ولد الهدى فالكائنات ضياء .. وفم الزمان تبسم ...</td>\n      <td>NaN</td>\n      <td>1</td>\n    </tr>\n    <tr>\n      <th>20165</th>\n      <td>' @mohamed71944156 @samarroshdy1 انت متناقض جد...</td>\n      <td>NaN</td>\n      <td>-1</td>\n    </tr>\n    <tr>\n      <th>20166</th>\n      <td>' منطقة السيدة زينب ليلة المولد @ مسجد السيدة ...</td>\n      <td>NaN</td>\n      <td>0</td>\n    </tr>\n  </tbody>\n</table>\n<p>20167 rows × 3 columns</p>\n</div>"
          },
          "metadata": {}
        }
      ]
    },
    {
      "cell_type": "markdown",
      "source": [
        "# Pie chart for data"
      ],
      "metadata": {
        "id": "Qj6c4TyeAk7z"
      }
    },
    {
      "cell_type": "code",
      "source": [
        "labels = data['polarity'].value_counts().keys()\n",
        "values = data['polarity'].value_counts()\n",
        "# Plot pie chart \n",
        "fig = go.Figure(data=[go.Pie(labels=labels, values=values, hole=.3)])\n",
        "fig.show()"
      ],
      "metadata": {
        "execution": {
          "iopub.status.busy": "2023-01-05T19:34:53.481949Z",
          "iopub.execute_input": "2023-01-05T19:34:53.482314Z",
          "iopub.status.idle": "2023-01-05T19:34:53.520823Z",
          "shell.execute_reply.started": "2023-01-05T19:34:53.482276Z",
          "shell.execute_reply": "2023-01-05T19:34:53.519901Z"
        },
        "trusted": true,
        "id": "IEHGCVnVAk7z",
        "outputId": "3195017d-0a20-4fbf-c20e-71614ecf1f84"
      },
      "execution_count": null,
      "outputs": [
        {
          "output_type": "display_data",
          "data": {
            "application/vnd.plotly.v1+json": {
              "data": [
                {
                  "hole": 0.3,
                  "labels": [
                    1,
                    -1,
                    0
                  ],
                  "values": [
                    10310,
                    7935,
                    1922
                  ],
                  "type": "pie"
                }
              ],
              "layout": {
                "template": {
                  "data": {
                    "histogram2dcontour": [
                      {
                        "type": "histogram2dcontour",
                        "colorbar": {
                          "outlinewidth": 0,
                          "ticks": ""
                        },
                        "colorscale": [
                          [
                            0,
                            "#0d0887"
                          ],
                          [
                            0.1111111111111111,
                            "#46039f"
                          ],
                          [
                            0.2222222222222222,
                            "#7201a8"
                          ],
                          [
                            0.3333333333333333,
                            "#9c179e"
                          ],
                          [
                            0.4444444444444444,
                            "#bd3786"
                          ],
                          [
                            0.5555555555555556,
                            "#d8576b"
                          ],
                          [
                            0.6666666666666666,
                            "#ed7953"
                          ],
                          [
                            0.7777777777777778,
                            "#fb9f3a"
                          ],
                          [
                            0.8888888888888888,
                            "#fdca26"
                          ],
                          [
                            1,
                            "#f0f921"
                          ]
                        ]
                      }
                    ],
                    "choropleth": [
                      {
                        "type": "choropleth",
                        "colorbar": {
                          "outlinewidth": 0,
                          "ticks": ""
                        }
                      }
                    ],
                    "histogram2d": [
                      {
                        "type": "histogram2d",
                        "colorbar": {
                          "outlinewidth": 0,
                          "ticks": ""
                        },
                        "colorscale": [
                          [
                            0,
                            "#0d0887"
                          ],
                          [
                            0.1111111111111111,
                            "#46039f"
                          ],
                          [
                            0.2222222222222222,
                            "#7201a8"
                          ],
                          [
                            0.3333333333333333,
                            "#9c179e"
                          ],
                          [
                            0.4444444444444444,
                            "#bd3786"
                          ],
                          [
                            0.5555555555555556,
                            "#d8576b"
                          ],
                          [
                            0.6666666666666666,
                            "#ed7953"
                          ],
                          [
                            0.7777777777777778,
                            "#fb9f3a"
                          ],
                          [
                            0.8888888888888888,
                            "#fdca26"
                          ],
                          [
                            1,
                            "#f0f921"
                          ]
                        ]
                      }
                    ],
                    "heatmap": [
                      {
                        "type": "heatmap",
                        "colorbar": {
                          "outlinewidth": 0,
                          "ticks": ""
                        },
                        "colorscale": [
                          [
                            0,
                            "#0d0887"
                          ],
                          [
                            0.1111111111111111,
                            "#46039f"
                          ],
                          [
                            0.2222222222222222,
                            "#7201a8"
                          ],
                          [
                            0.3333333333333333,
                            "#9c179e"
                          ],
                          [
                            0.4444444444444444,
                            "#bd3786"
                          ],
                          [
                            0.5555555555555556,
                            "#d8576b"
                          ],
                          [
                            0.6666666666666666,
                            "#ed7953"
                          ],
                          [
                            0.7777777777777778,
                            "#fb9f3a"
                          ],
                          [
                            0.8888888888888888,
                            "#fdca26"
                          ],
                          [
                            1,
                            "#f0f921"
                          ]
                        ]
                      }
                    ],
                    "heatmapgl": [
                      {
                        "type": "heatmapgl",
                        "colorbar": {
                          "outlinewidth": 0,
                          "ticks": ""
                        },
                        "colorscale": [
                          [
                            0,
                            "#0d0887"
                          ],
                          [
                            0.1111111111111111,
                            "#46039f"
                          ],
                          [
                            0.2222222222222222,
                            "#7201a8"
                          ],
                          [
                            0.3333333333333333,
                            "#9c179e"
                          ],
                          [
                            0.4444444444444444,
                            "#bd3786"
                          ],
                          [
                            0.5555555555555556,
                            "#d8576b"
                          ],
                          [
                            0.6666666666666666,
                            "#ed7953"
                          ],
                          [
                            0.7777777777777778,
                            "#fb9f3a"
                          ],
                          [
                            0.8888888888888888,
                            "#fdca26"
                          ],
                          [
                            1,
                            "#f0f921"
                          ]
                        ]
                      }
                    ],
                    "contourcarpet": [
                      {
                        "type": "contourcarpet",
                        "colorbar": {
                          "outlinewidth": 0,
                          "ticks": ""
                        }
                      }
                    ],
                    "contour": [
                      {
                        "type": "contour",
                        "colorbar": {
                          "outlinewidth": 0,
                          "ticks": ""
                        },
                        "colorscale": [
                          [
                            0,
                            "#0d0887"
                          ],
                          [
                            0.1111111111111111,
                            "#46039f"
                          ],
                          [
                            0.2222222222222222,
                            "#7201a8"
                          ],
                          [
                            0.3333333333333333,
                            "#9c179e"
                          ],
                          [
                            0.4444444444444444,
                            "#bd3786"
                          ],
                          [
                            0.5555555555555556,
                            "#d8576b"
                          ],
                          [
                            0.6666666666666666,
                            "#ed7953"
                          ],
                          [
                            0.7777777777777778,
                            "#fb9f3a"
                          ],
                          [
                            0.8888888888888888,
                            "#fdca26"
                          ],
                          [
                            1,
                            "#f0f921"
                          ]
                        ]
                      }
                    ],
                    "surface": [
                      {
                        "type": "surface",
                        "colorbar": {
                          "outlinewidth": 0,
                          "ticks": ""
                        },
                        "colorscale": [
                          [
                            0,
                            "#0d0887"
                          ],
                          [
                            0.1111111111111111,
                            "#46039f"
                          ],
                          [
                            0.2222222222222222,
                            "#7201a8"
                          ],
                          [
                            0.3333333333333333,
                            "#9c179e"
                          ],
                          [
                            0.4444444444444444,
                            "#bd3786"
                          ],
                          [
                            0.5555555555555556,
                            "#d8576b"
                          ],
                          [
                            0.6666666666666666,
                            "#ed7953"
                          ],
                          [
                            0.7777777777777778,
                            "#fb9f3a"
                          ],
                          [
                            0.8888888888888888,
                            "#fdca26"
                          ],
                          [
                            1,
                            "#f0f921"
                          ]
                        ]
                      }
                    ],
                    "mesh3d": [
                      {
                        "type": "mesh3d",
                        "colorbar": {
                          "outlinewidth": 0,
                          "ticks": ""
                        }
                      }
                    ],
                    "scatter": [
                      {
                        "fillpattern": {
                          "fillmode": "overlay",
                          "size": 10,
                          "solidity": 0.2
                        },
                        "type": "scatter"
                      }
                    ],
                    "parcoords": [
                      {
                        "type": "parcoords",
                        "line": {
                          "colorbar": {
                            "outlinewidth": 0,
                            "ticks": ""
                          }
                        }
                      }
                    ],
                    "scatterpolargl": [
                      {
                        "type": "scatterpolargl",
                        "marker": {
                          "colorbar": {
                            "outlinewidth": 0,
                            "ticks": ""
                          }
                        }
                      }
                    ],
                    "bar": [
                      {
                        "error_x": {
                          "color": "#2a3f5f"
                        },
                        "error_y": {
                          "color": "#2a3f5f"
                        },
                        "marker": {
                          "line": {
                            "color": "#E5ECF6",
                            "width": 0.5
                          },
                          "pattern": {
                            "fillmode": "overlay",
                            "size": 10,
                            "solidity": 0.2
                          }
                        },
                        "type": "bar"
                      }
                    ],
                    "scattergeo": [
                      {
                        "type": "scattergeo",
                        "marker": {
                          "colorbar": {
                            "outlinewidth": 0,
                            "ticks": ""
                          }
                        }
                      }
                    ],
                    "scatterpolar": [
                      {
                        "type": "scatterpolar",
                        "marker": {
                          "colorbar": {
                            "outlinewidth": 0,
                            "ticks": ""
                          }
                        }
                      }
                    ],
                    "histogram": [
                      {
                        "marker": {
                          "pattern": {
                            "fillmode": "overlay",
                            "size": 10,
                            "solidity": 0.2
                          }
                        },
                        "type": "histogram"
                      }
                    ],
                    "scattergl": [
                      {
                        "type": "scattergl",
                        "marker": {
                          "colorbar": {
                            "outlinewidth": 0,
                            "ticks": ""
                          }
                        }
                      }
                    ],
                    "scatter3d": [
                      {
                        "type": "scatter3d",
                        "line": {
                          "colorbar": {
                            "outlinewidth": 0,
                            "ticks": ""
                          }
                        },
                        "marker": {
                          "colorbar": {
                            "outlinewidth": 0,
                            "ticks": ""
                          }
                        }
                      }
                    ],
                    "scattermapbox": [
                      {
                        "type": "scattermapbox",
                        "marker": {
                          "colorbar": {
                            "outlinewidth": 0,
                            "ticks": ""
                          }
                        }
                      }
                    ],
                    "scatterternary": [
                      {
                        "type": "scatterternary",
                        "marker": {
                          "colorbar": {
                            "outlinewidth": 0,
                            "ticks": ""
                          }
                        }
                      }
                    ],
                    "scattercarpet": [
                      {
                        "type": "scattercarpet",
                        "marker": {
                          "colorbar": {
                            "outlinewidth": 0,
                            "ticks": ""
                          }
                        }
                      }
                    ],
                    "carpet": [
                      {
                        "aaxis": {
                          "endlinecolor": "#2a3f5f",
                          "gridcolor": "white",
                          "linecolor": "white",
                          "minorgridcolor": "white",
                          "startlinecolor": "#2a3f5f"
                        },
                        "baxis": {
                          "endlinecolor": "#2a3f5f",
                          "gridcolor": "white",
                          "linecolor": "white",
                          "minorgridcolor": "white",
                          "startlinecolor": "#2a3f5f"
                        },
                        "type": "carpet"
                      }
                    ],
                    "table": [
                      {
                        "cells": {
                          "fill": {
                            "color": "#EBF0F8"
                          },
                          "line": {
                            "color": "white"
                          }
                        },
                        "header": {
                          "fill": {
                            "color": "#C8D4E3"
                          },
                          "line": {
                            "color": "white"
                          }
                        },
                        "type": "table"
                      }
                    ],
                    "barpolar": [
                      {
                        "marker": {
                          "line": {
                            "color": "#E5ECF6",
                            "width": 0.5
                          },
                          "pattern": {
                            "fillmode": "overlay",
                            "size": 10,
                            "solidity": 0.2
                          }
                        },
                        "type": "barpolar"
                      }
                    ],
                    "pie": [
                      {
                        "automargin": true,
                        "type": "pie"
                      }
                    ]
                  },
                  "layout": {
                    "autotypenumbers": "strict",
                    "colorway": [
                      "#636efa",
                      "#EF553B",
                      "#00cc96",
                      "#ab63fa",
                      "#FFA15A",
                      "#19d3f3",
                      "#FF6692",
                      "#B6E880",
                      "#FF97FF",
                      "#FECB52"
                    ],
                    "font": {
                      "color": "#2a3f5f"
                    },
                    "hovermode": "closest",
                    "hoverlabel": {
                      "align": "left"
                    },
                    "paper_bgcolor": "white",
                    "plot_bgcolor": "#E5ECF6",
                    "polar": {
                      "bgcolor": "#E5ECF6",
                      "angularaxis": {
                        "gridcolor": "white",
                        "linecolor": "white",
                        "ticks": ""
                      },
                      "radialaxis": {
                        "gridcolor": "white",
                        "linecolor": "white",
                        "ticks": ""
                      }
                    },
                    "ternary": {
                      "bgcolor": "#E5ECF6",
                      "aaxis": {
                        "gridcolor": "white",
                        "linecolor": "white",
                        "ticks": ""
                      },
                      "baxis": {
                        "gridcolor": "white",
                        "linecolor": "white",
                        "ticks": ""
                      },
                      "caxis": {
                        "gridcolor": "white",
                        "linecolor": "white",
                        "ticks": ""
                      }
                    },
                    "coloraxis": {
                      "colorbar": {
                        "outlinewidth": 0,
                        "ticks": ""
                      }
                    },
                    "colorscale": {
                      "sequential": [
                        [
                          0,
                          "#0d0887"
                        ],
                        [
                          0.1111111111111111,
                          "#46039f"
                        ],
                        [
                          0.2222222222222222,
                          "#7201a8"
                        ],
                        [
                          0.3333333333333333,
                          "#9c179e"
                        ],
                        [
                          0.4444444444444444,
                          "#bd3786"
                        ],
                        [
                          0.5555555555555556,
                          "#d8576b"
                        ],
                        [
                          0.6666666666666666,
                          "#ed7953"
                        ],
                        [
                          0.7777777777777778,
                          "#fb9f3a"
                        ],
                        [
                          0.8888888888888888,
                          "#fdca26"
                        ],
                        [
                          1,
                          "#f0f921"
                        ]
                      ],
                      "sequentialminus": [
                        [
                          0,
                          "#0d0887"
                        ],
                        [
                          0.1111111111111111,
                          "#46039f"
                        ],
                        [
                          0.2222222222222222,
                          "#7201a8"
                        ],
                        [
                          0.3333333333333333,
                          "#9c179e"
                        ],
                        [
                          0.4444444444444444,
                          "#bd3786"
                        ],
                        [
                          0.5555555555555556,
                          "#d8576b"
                        ],
                        [
                          0.6666666666666666,
                          "#ed7953"
                        ],
                        [
                          0.7777777777777778,
                          "#fb9f3a"
                        ],
                        [
                          0.8888888888888888,
                          "#fdca26"
                        ],
                        [
                          1,
                          "#f0f921"
                        ]
                      ],
                      "diverging": [
                        [
                          0,
                          "#8e0152"
                        ],
                        [
                          0.1,
                          "#c51b7d"
                        ],
                        [
                          0.2,
                          "#de77ae"
                        ],
                        [
                          0.3,
                          "#f1b6da"
                        ],
                        [
                          0.4,
                          "#fde0ef"
                        ],
                        [
                          0.5,
                          "#f7f7f7"
                        ],
                        [
                          0.6,
                          "#e6f5d0"
                        ],
                        [
                          0.7,
                          "#b8e186"
                        ],
                        [
                          0.8,
                          "#7fbc41"
                        ],
                        [
                          0.9,
                          "#4d9221"
                        ],
                        [
                          1,
                          "#276419"
                        ]
                      ]
                    },
                    "xaxis": {
                      "gridcolor": "white",
                      "linecolor": "white",
                      "ticks": "",
                      "title": {
                        "standoff": 15
                      },
                      "zerolinecolor": "white",
                      "automargin": true,
                      "zerolinewidth": 2
                    },
                    "yaxis": {
                      "gridcolor": "white",
                      "linecolor": "white",
                      "ticks": "",
                      "title": {
                        "standoff": 15
                      },
                      "zerolinecolor": "white",
                      "automargin": true,
                      "zerolinewidth": 2
                    },
                    "scene": {
                      "xaxis": {
                        "backgroundcolor": "#E5ECF6",
                        "gridcolor": "white",
                        "linecolor": "white",
                        "showbackground": true,
                        "ticks": "",
                        "zerolinecolor": "white",
                        "gridwidth": 2
                      },
                      "yaxis": {
                        "backgroundcolor": "#E5ECF6",
                        "gridcolor": "white",
                        "linecolor": "white",
                        "showbackground": true,
                        "ticks": "",
                        "zerolinecolor": "white",
                        "gridwidth": 2
                      },
                      "zaxis": {
                        "backgroundcolor": "#E5ECF6",
                        "gridcolor": "white",
                        "linecolor": "white",
                        "showbackground": true,
                        "ticks": "",
                        "zerolinecolor": "white",
                        "gridwidth": 2
                      }
                    },
                    "shapedefaults": {
                      "line": {
                        "color": "#2a3f5f"
                      }
                    },
                    "annotationdefaults": {
                      "arrowcolor": "#2a3f5f",
                      "arrowhead": 0,
                      "arrowwidth": 1
                    },
                    "geo": {
                      "bgcolor": "white",
                      "landcolor": "#E5ECF6",
                      "subunitcolor": "white",
                      "showland": true,
                      "showlakes": true,
                      "lakecolor": "white"
                    },
                    "title": {
                      "x": 0.05
                    },
                    "mapbox": {
                      "style": "light"
                    }
                  }
                },
                "autosize": true
              },
              "config": {
                "plotlyServerURL": "https://plot.ly"
              }
            },
            "text/html": "<div>                            <div id=\"1af3ad53-aaa3-4d67-b961-3d5e382da5da\" class=\"plotly-graph-div\" style=\"height:525px; width:100%;\"></div>            <script type=\"text/javascript\">                require([\"plotly\"], function(Plotly) {                    window.PLOTLYENV=window.PLOTLYENV || {};                                    if (document.getElementById(\"1af3ad53-aaa3-4d67-b961-3d5e382da5da\")) {                    Plotly.newPlot(                        \"1af3ad53-aaa3-4d67-b961-3d5e382da5da\",                        [{\"hole\":0.3,\"labels\":[1,-1,0],\"values\":[10310,7935,1922],\"type\":\"pie\"}],                        {\"template\":{\"data\":{\"histogram2dcontour\":[{\"type\":\"histogram2dcontour\",\"colorbar\":{\"outlinewidth\":0,\"ticks\":\"\"},\"colorscale\":[[0.0,\"#0d0887\"],[0.1111111111111111,\"#46039f\"],[0.2222222222222222,\"#7201a8\"],[0.3333333333333333,\"#9c179e\"],[0.4444444444444444,\"#bd3786\"],[0.5555555555555556,\"#d8576b\"],[0.6666666666666666,\"#ed7953\"],[0.7777777777777778,\"#fb9f3a\"],[0.8888888888888888,\"#fdca26\"],[1.0,\"#f0f921\"]]}],\"choropleth\":[{\"type\":\"choropleth\",\"colorbar\":{\"outlinewidth\":0,\"ticks\":\"\"}}],\"histogram2d\":[{\"type\":\"histogram2d\",\"colorbar\":{\"outlinewidth\":0,\"ticks\":\"\"},\"colorscale\":[[0.0,\"#0d0887\"],[0.1111111111111111,\"#46039f\"],[0.2222222222222222,\"#7201a8\"],[0.3333333333333333,\"#9c179e\"],[0.4444444444444444,\"#bd3786\"],[0.5555555555555556,\"#d8576b\"],[0.6666666666666666,\"#ed7953\"],[0.7777777777777778,\"#fb9f3a\"],[0.8888888888888888,\"#fdca26\"],[1.0,\"#f0f921\"]]}],\"heatmap\":[{\"type\":\"heatmap\",\"colorbar\":{\"outlinewidth\":0,\"ticks\":\"\"},\"colorscale\":[[0.0,\"#0d0887\"],[0.1111111111111111,\"#46039f\"],[0.2222222222222222,\"#7201a8\"],[0.3333333333333333,\"#9c179e\"],[0.4444444444444444,\"#bd3786\"],[0.5555555555555556,\"#d8576b\"],[0.6666666666666666,\"#ed7953\"],[0.7777777777777778,\"#fb9f3a\"],[0.8888888888888888,\"#fdca26\"],[1.0,\"#f0f921\"]]}],\"heatmapgl\":[{\"type\":\"heatmapgl\",\"colorbar\":{\"outlinewidth\":0,\"ticks\":\"\"},\"colorscale\":[[0.0,\"#0d0887\"],[0.1111111111111111,\"#46039f\"],[0.2222222222222222,\"#7201a8\"],[0.3333333333333333,\"#9c179e\"],[0.4444444444444444,\"#bd3786\"],[0.5555555555555556,\"#d8576b\"],[0.6666666666666666,\"#ed7953\"],[0.7777777777777778,\"#fb9f3a\"],[0.8888888888888888,\"#fdca26\"],[1.0,\"#f0f921\"]]}],\"contourcarpet\":[{\"type\":\"contourcarpet\",\"colorbar\":{\"outlinewidth\":0,\"ticks\":\"\"}}],\"contour\":[{\"type\":\"contour\",\"colorbar\":{\"outlinewidth\":0,\"ticks\":\"\"},\"colorscale\":[[0.0,\"#0d0887\"],[0.1111111111111111,\"#46039f\"],[0.2222222222222222,\"#7201a8\"],[0.3333333333333333,\"#9c179e\"],[0.4444444444444444,\"#bd3786\"],[0.5555555555555556,\"#d8576b\"],[0.6666666666666666,\"#ed7953\"],[0.7777777777777778,\"#fb9f3a\"],[0.8888888888888888,\"#fdca26\"],[1.0,\"#f0f921\"]]}],\"surface\":[{\"type\":\"surface\",\"colorbar\":{\"outlinewidth\":0,\"ticks\":\"\"},\"colorscale\":[[0.0,\"#0d0887\"],[0.1111111111111111,\"#46039f\"],[0.2222222222222222,\"#7201a8\"],[0.3333333333333333,\"#9c179e\"],[0.4444444444444444,\"#bd3786\"],[0.5555555555555556,\"#d8576b\"],[0.6666666666666666,\"#ed7953\"],[0.7777777777777778,\"#fb9f3a\"],[0.8888888888888888,\"#fdca26\"],[1.0,\"#f0f921\"]]}],\"mesh3d\":[{\"type\":\"mesh3d\",\"colorbar\":{\"outlinewidth\":0,\"ticks\":\"\"}}],\"scatter\":[{\"fillpattern\":{\"fillmode\":\"overlay\",\"size\":10,\"solidity\":0.2},\"type\":\"scatter\"}],\"parcoords\":[{\"type\":\"parcoords\",\"line\":{\"colorbar\":{\"outlinewidth\":0,\"ticks\":\"\"}}}],\"scatterpolargl\":[{\"type\":\"scatterpolargl\",\"marker\":{\"colorbar\":{\"outlinewidth\":0,\"ticks\":\"\"}}}],\"bar\":[{\"error_x\":{\"color\":\"#2a3f5f\"},\"error_y\":{\"color\":\"#2a3f5f\"},\"marker\":{\"line\":{\"color\":\"#E5ECF6\",\"width\":0.5},\"pattern\":{\"fillmode\":\"overlay\",\"size\":10,\"solidity\":0.2}},\"type\":\"bar\"}],\"scattergeo\":[{\"type\":\"scattergeo\",\"marker\":{\"colorbar\":{\"outlinewidth\":0,\"ticks\":\"\"}}}],\"scatterpolar\":[{\"type\":\"scatterpolar\",\"marker\":{\"colorbar\":{\"outlinewidth\":0,\"ticks\":\"\"}}}],\"histogram\":[{\"marker\":{\"pattern\":{\"fillmode\":\"overlay\",\"size\":10,\"solidity\":0.2}},\"type\":\"histogram\"}],\"scattergl\":[{\"type\":\"scattergl\",\"marker\":{\"colorbar\":{\"outlinewidth\":0,\"ticks\":\"\"}}}],\"scatter3d\":[{\"type\":\"scatter3d\",\"line\":{\"colorbar\":{\"outlinewidth\":0,\"ticks\":\"\"}},\"marker\":{\"colorbar\":{\"outlinewidth\":0,\"ticks\":\"\"}}}],\"scattermapbox\":[{\"type\":\"scattermapbox\",\"marker\":{\"colorbar\":{\"outlinewidth\":0,\"ticks\":\"\"}}}],\"scatterternary\":[{\"type\":\"scatterternary\",\"marker\":{\"colorbar\":{\"outlinewidth\":0,\"ticks\":\"\"}}}],\"scattercarpet\":[{\"type\":\"scattercarpet\",\"marker\":{\"colorbar\":{\"outlinewidth\":0,\"ticks\":\"\"}}}],\"carpet\":[{\"aaxis\":{\"endlinecolor\":\"#2a3f5f\",\"gridcolor\":\"white\",\"linecolor\":\"white\",\"minorgridcolor\":\"white\",\"startlinecolor\":\"#2a3f5f\"},\"baxis\":{\"endlinecolor\":\"#2a3f5f\",\"gridcolor\":\"white\",\"linecolor\":\"white\",\"minorgridcolor\":\"white\",\"startlinecolor\":\"#2a3f5f\"},\"type\":\"carpet\"}],\"table\":[{\"cells\":{\"fill\":{\"color\":\"#EBF0F8\"},\"line\":{\"color\":\"white\"}},\"header\":{\"fill\":{\"color\":\"#C8D4E3\"},\"line\":{\"color\":\"white\"}},\"type\":\"table\"}],\"barpolar\":[{\"marker\":{\"line\":{\"color\":\"#E5ECF6\",\"width\":0.5},\"pattern\":{\"fillmode\":\"overlay\",\"size\":10,\"solidity\":0.2}},\"type\":\"barpolar\"}],\"pie\":[{\"automargin\":true,\"type\":\"pie\"}]},\"layout\":{\"autotypenumbers\":\"strict\",\"colorway\":[\"#636efa\",\"#EF553B\",\"#00cc96\",\"#ab63fa\",\"#FFA15A\",\"#19d3f3\",\"#FF6692\",\"#B6E880\",\"#FF97FF\",\"#FECB52\"],\"font\":{\"color\":\"#2a3f5f\"},\"hovermode\":\"closest\",\"hoverlabel\":{\"align\":\"left\"},\"paper_bgcolor\":\"white\",\"plot_bgcolor\":\"#E5ECF6\",\"polar\":{\"bgcolor\":\"#E5ECF6\",\"angularaxis\":{\"gridcolor\":\"white\",\"linecolor\":\"white\",\"ticks\":\"\"},\"radialaxis\":{\"gridcolor\":\"white\",\"linecolor\":\"white\",\"ticks\":\"\"}},\"ternary\":{\"bgcolor\":\"#E5ECF6\",\"aaxis\":{\"gridcolor\":\"white\",\"linecolor\":\"white\",\"ticks\":\"\"},\"baxis\":{\"gridcolor\":\"white\",\"linecolor\":\"white\",\"ticks\":\"\"},\"caxis\":{\"gridcolor\":\"white\",\"linecolor\":\"white\",\"ticks\":\"\"}},\"coloraxis\":{\"colorbar\":{\"outlinewidth\":0,\"ticks\":\"\"}},\"colorscale\":{\"sequential\":[[0.0,\"#0d0887\"],[0.1111111111111111,\"#46039f\"],[0.2222222222222222,\"#7201a8\"],[0.3333333333333333,\"#9c179e\"],[0.4444444444444444,\"#bd3786\"],[0.5555555555555556,\"#d8576b\"],[0.6666666666666666,\"#ed7953\"],[0.7777777777777778,\"#fb9f3a\"],[0.8888888888888888,\"#fdca26\"],[1.0,\"#f0f921\"]],\"sequentialminus\":[[0.0,\"#0d0887\"],[0.1111111111111111,\"#46039f\"],[0.2222222222222222,\"#7201a8\"],[0.3333333333333333,\"#9c179e\"],[0.4444444444444444,\"#bd3786\"],[0.5555555555555556,\"#d8576b\"],[0.6666666666666666,\"#ed7953\"],[0.7777777777777778,\"#fb9f3a\"],[0.8888888888888888,\"#fdca26\"],[1.0,\"#f0f921\"]],\"diverging\":[[0,\"#8e0152\"],[0.1,\"#c51b7d\"],[0.2,\"#de77ae\"],[0.3,\"#f1b6da\"],[0.4,\"#fde0ef\"],[0.5,\"#f7f7f7\"],[0.6,\"#e6f5d0\"],[0.7,\"#b8e186\"],[0.8,\"#7fbc41\"],[0.9,\"#4d9221\"],[1,\"#276419\"]]},\"xaxis\":{\"gridcolor\":\"white\",\"linecolor\":\"white\",\"ticks\":\"\",\"title\":{\"standoff\":15},\"zerolinecolor\":\"white\",\"automargin\":true,\"zerolinewidth\":2},\"yaxis\":{\"gridcolor\":\"white\",\"linecolor\":\"white\",\"ticks\":\"\",\"title\":{\"standoff\":15},\"zerolinecolor\":\"white\",\"automargin\":true,\"zerolinewidth\":2},\"scene\":{\"xaxis\":{\"backgroundcolor\":\"#E5ECF6\",\"gridcolor\":\"white\",\"linecolor\":\"white\",\"showbackground\":true,\"ticks\":\"\",\"zerolinecolor\":\"white\",\"gridwidth\":2},\"yaxis\":{\"backgroundcolor\":\"#E5ECF6\",\"gridcolor\":\"white\",\"linecolor\":\"white\",\"showbackground\":true,\"ticks\":\"\",\"zerolinecolor\":\"white\",\"gridwidth\":2},\"zaxis\":{\"backgroundcolor\":\"#E5ECF6\",\"gridcolor\":\"white\",\"linecolor\":\"white\",\"showbackground\":true,\"ticks\":\"\",\"zerolinecolor\":\"white\",\"gridwidth\":2}},\"shapedefaults\":{\"line\":{\"color\":\"#2a3f5f\"}},\"annotationdefaults\":{\"arrowcolor\":\"#2a3f5f\",\"arrowhead\":0,\"arrowwidth\":1},\"geo\":{\"bgcolor\":\"white\",\"landcolor\":\"#E5ECF6\",\"subunitcolor\":\"white\",\"showland\":true,\"showlakes\":true,\"lakecolor\":\"white\"},\"title\":{\"x\":0.05},\"mapbox\":{\"style\":\"light\"}}}},                        {\"responsive\": true}                    ).then(function(){\n                            \nvar gd = document.getElementById('1af3ad53-aaa3-4d67-b961-3d5e382da5da');\nvar x = new MutationObserver(function (mutations, observer) {{\n        var display = window.getComputedStyle(gd).display;\n        if (!display || display === 'none') {{\n            console.log([gd, 'removed!']);\n            Plotly.purge(gd);\n            observer.disconnect();\n        }}\n}});\n\n// Listen for the removal of the full notebook cells\nvar notebookContainer = gd.closest('#notebook-container');\nif (notebookContainer) {{\n    x.observe(notebookContainer, {childList: true});\n}}\n\n// Listen for the clearing of the current output cell\nvar outputEl = gd.closest('.output');\nif (outputEl) {{\n    x.observe(outputEl, {childList: true});\n}}\n\n                        })                };                });            </script>        </div>",
            "image/png": "[encoded data removed]"
          },
          "metadata": {}
        }
      ]
    },
    {
      "cell_type": "markdown",
      "source": [
        "# Data Cleaning "
      ],
      "metadata": {
        "id": "4rtVKCM9Ak70"
      }
    },
    {
      "cell_type": "code",
      "source": [
        "def convert_emojis(text):\n",
        "    for emot in UNICODE_EMOJI:\n",
        "        text = text.replace(emot, \"_\".join(UNICODE_EMOJI[emot].replace(\",\",\"\").replace(\":\",\"\").split()))\n",
        "    return text\n",
        "def convert_emoticons(text):\n",
        "    for emot in EMOTICONS_EMO:\n",
        "\n",
        "        text = text.replace(emot, \"_\".join(EMOTICONS_EMO[emot].replace(\",\",\"\").split()))\n",
        "    return text"
      ],
      "metadata": {
        "execution": {
          "iopub.status.busy": "2023-01-05T19:34:53.522295Z",
          "iopub.execute_input": "2023-01-05T19:34:53.522660Z",
          "iopub.status.idle": "2023-01-05T19:34:53.529247Z",
          "shell.execute_reply.started": "2023-01-05T19:34:53.522625Z",
          "shell.execute_reply": "2023-01-05T19:34:53.528334Z"
        },
        "trusted": true,
        "id": "W409dKuYAk71"
      },
      "execution_count": null,
      "outputs": []
    },
    {
      "cell_type": "code",
      "source": [
        "def data_cleaning (text):\n",
        "    # remove qutoions \n",
        "    text = text.strip()\n",
        "\n",
        "    text= re.sub(r'http\\S+', '', text)\n",
        "    \n",
        "    text= re.sub(r'ي+','ي', text)\n",
        "    text = text.replace(\"آ\", \"ا\")\n",
        "    text = text.replace(\"إ\", \"ا\")\n",
        "    text = text.replace(\"أ\", \"ا\")\n",
        "    text = text.replace(\"ؤ\", \"و\")\n",
        "    text = text.replace(\"ئ\", \"ي\")\n",
        "\n",
        "\n",
        "    text= re.sub(r'[@|#]\\S*', '',text)\n",
        "    text= re.sub(r'\"+', '', text)\n",
        "    # Remove arabic signs\n",
        "    #text= re.sub(r'([@A-Za-z0-9_ـــــــــــــ]+)|[^\\w\\s]|#|http\\S+', '', text)\n",
        "    punc = '''!()-[]{};:'\"\\,<>./?@#$%^&*_~'''\n",
        " \n",
        "   \n",
        "    \n",
        "\n",
        "    # Remove repeated letters like \"الللللللللللللللله\" to \"الله\"\n",
        "    text= text[0:2] + ''.join([text[i] for i in range(2, len(text)) if text[i]!=text[i-1] or text[i]!=text[i-2]])\n",
        "    text= re.sub(r'D',':D', text)\n",
        "    text= re.sub(r'هه+', 'face_with_tears_of_joy', text)\n",
        "    text= convert_emojis(text)\n",
        "    text= convert_emoticons(text)\n",
        "\n",
        "     # Removing punctuations in string\n",
        "    text = text.translate(str.maketrans('', '', string.punctuation))\n",
        "    \n",
        "    text=re.sub(r'(?:^| )\\w(?:$| )', ' ', text)\n",
        "    text = re.sub(r\"$\\d+\\W+|\\b\\d+\\b|\\W+\\d+$\", \"\", text)\n",
        "    text = re.sub(\" \\d+\", \" \", text)\n",
        "    text = re.sub(\"(\\s\\d+)\",\"\",text)\n",
        "    text = re.sub(r'\\s+', ' ', text)\n",
        "    text = re.sub(\"(\\s\\d+)\",\"\",text) \n",
        "    # Returns: hi what is the weather like\n",
        "    \n",
        "\n",
        "    return text"
      ],
      "metadata": {
        "execution": {
          "iopub.status.busy": "2023-01-05T19:34:53.530515Z",
          "iopub.execute_input": "2023-01-05T19:34:53.531042Z",
          "iopub.status.idle": "2023-01-05T19:34:53.543648Z",
          "shell.execute_reply.started": "2023-01-05T19:34:53.531008Z",
          "shell.execute_reply": "2023-01-05T19:34:53.542704Z"
        },
        "trusted": true,
        "id": "fSjbRoPcAk71"
      },
      "execution_count": null,
      "outputs": []
    },
    {
      "cell_type": "code",
      "source": [
        "data['preprocessing'] =data.iloc[:,0].apply(lambda x:data_cleaning(x))\n",
        "data['preprocessing'] =data['preprocessing'] .apply(lambda x:arabert_prep.preprocess(x))\n",
        "data"
      ],
      "metadata": {
        "execution": {
          "iopub.status.busy": "2023-01-05T19:34:53.547650Z",
          "iopub.execute_input": "2023-01-05T19:34:53.548008Z",
          "iopub.status.idle": "2023-01-05T19:35:50.509542Z",
          "shell.execute_reply.started": "2023-01-05T19:34:53.547983Z",
          "shell.execute_reply": "2023-01-05T19:35:50.508578Z"
        },
        "trusted": true,
        "id": "5xOu7HRaAk8A",
        "outputId": "f01951a4-0732-4e62-ab15-1230d5547420"
      },
      "execution_count": null,
      "outputs": [
        {
          "execution_count": 10,
          "output_type": "execute_result",
          "data": {
            "text/plain": "                                                    text         target  \\\n0      أنصح بالنوم وليس تناول الطعام  موقع مثالي للإق...           موقع   \n1      كانت الغرفة ممتازة وكذلك الموظفون وبوفيه الإفط...         الغرفة   \n2      كانت الغرفة ممتازة وكذلك الموظفون وبوفيه الإفط...       الموظفون   \n3      كانت الغرفة ممتازة وكذلك الموظفون وبوفيه الإفط...  بوفيه الإفطار   \n4      كانت الغرفة ممتازة وكذلك الموظفون وبوفيه الإفط...    وجبة العشاء   \n...                                                  ...            ...   \n20162  ' @wasfa_N الجمال مبيحتاح اي مكياج لناعم وله خ...            NaN   \n20163  ' @TheMurexDor نتمني وجود الفنانة رنا سماحة اف...            NaN   \n20164  ' ولد الهدى فالكائنات ضياء .. وفم الزمان تبسم ...            NaN   \n20165  ' @mohamed71944156 @samarroshdy1 انت متناقض جد...            NaN   \n20166  ' منطقة السيدة زينب ليلة المولد @ مسجد السيدة ...            NaN   \n\n       polarity                                      preprocessing  \n0             1  انصح بالنوم وليس تناول الطعام موقع مثالي للاقا...  \n1             1  كانت الغرفة ممتازة وكذلك الموظفون وبوفيه الافط...  \n2             1  كانت الغرفة ممتازة وكذلك الموظفون وبوفيه الافط...  \n3             1  كانت الغرفة ممتازة وكذلك الموظفون وبوفيه الافط...  \n4            -1  كانت الغرفة ممتازة وكذلك الموظفون وبوفيه الافط...  \n...         ...                                                ...  \n20162         0  الجمال مبيحتاح اي مكياج لناعم وله خشن جمل الطا...  \n20163         0  نتمني وجود الفنانة رنا سماحة افضل فنانة صاعدة ...  \n20164         1  ولد الهدى فالكاينات ضياء وفم الزمان تبسم وسناء...  \n20165        -1                             انت متناقض جدا يا صلاح  \n20166         0     منطقة السيدة زينب ليلة المولد مسجد السيدة زينب  \n\n[20167 rows x 4 columns]",
            "text/html": "<div>\n<style scoped>\n    .dataframe tbody tr th:only-of-type {\n        vertical-align: middle;\n    }\n\n    .dataframe tbody tr th {\n        vertical-align: top;\n    }\n\n    .dataframe thead th {\n        text-align: right;\n    }\n</style>\n<table border=\"1\" class=\"dataframe\">\n  <thead>\n    <tr style=\"text-align: right;\">\n      <th></th>\n      <th>text</th>\n      <th>target</th>\n      <th>polarity</th>\n      <th>preprocessing</th>\n    </tr>\n  </thead>\n  <tbody>\n    <tr>\n      <th>0</th>\n      <td>أنصح بالنوم وليس تناول الطعام  موقع مثالي للإق...</td>\n      <td>موقع</td>\n      <td>1</td>\n      <td>انصح بالنوم وليس تناول الطعام موقع مثالي للاقا...</td>\n    </tr>\n    <tr>\n      <th>1</th>\n      <td>كانت الغرفة ممتازة وكذلك الموظفون وبوفيه الإفط...</td>\n      <td>الغرفة</td>\n      <td>1</td>\n      <td>كانت الغرفة ممتازة وكذلك الموظفون وبوفيه الافط...</td>\n    </tr>\n    <tr>\n      <th>2</th>\n      <td>كانت الغرفة ممتازة وكذلك الموظفون وبوفيه الإفط...</td>\n      <td>الموظفون</td>\n      <td>1</td>\n      <td>كانت الغرفة ممتازة وكذلك الموظفون وبوفيه الافط...</td>\n    </tr>\n    <tr>\n      <th>3</th>\n      <td>كانت الغرفة ممتازة وكذلك الموظفون وبوفيه الإفط...</td>\n      <td>بوفيه الإفطار</td>\n      <td>1</td>\n      <td>كانت الغرفة ممتازة وكذلك الموظفون وبوفيه الافط...</td>\n    </tr>\n    <tr>\n      <th>4</th>\n      <td>كانت الغرفة ممتازة وكذلك الموظفون وبوفيه الإفط...</td>\n      <td>وجبة العشاء</td>\n      <td>-1</td>\n      <td>كانت الغرفة ممتازة وكذلك الموظفون وبوفيه الافط...</td>\n    </tr>\n    <tr>\n      <th>...</th>\n      <td>...</td>\n      <td>...</td>\n      <td>...</td>\n      <td>...</td>\n    </tr>\n    <tr>\n      <th>20162</th>\n      <td>' @wasfa_N الجمال مبيحتاح اي مكياج لناعم وله خ...</td>\n      <td>NaN</td>\n      <td>0</td>\n      <td>الجمال مبيحتاح اي مكياج لناعم وله خشن جمل الطا...</td>\n    </tr>\n    <tr>\n      <th>20163</th>\n      <td>' @TheMurexDor نتمني وجود الفنانة رنا سماحة اف...</td>\n      <td>NaN</td>\n      <td>0</td>\n      <td>نتمني وجود الفنانة رنا سماحة افضل فنانة صاعدة ...</td>\n    </tr>\n    <tr>\n      <th>20164</th>\n      <td>' ولد الهدى فالكائنات ضياء .. وفم الزمان تبسم ...</td>\n      <td>NaN</td>\n      <td>1</td>\n      <td>ولد الهدى فالكاينات ضياء وفم الزمان تبسم وسناء...</td>\n    </tr>\n    <tr>\n      <th>20165</th>\n      <td>' @mohamed71944156 @samarroshdy1 انت متناقض جد...</td>\n      <td>NaN</td>\n      <td>-1</td>\n      <td>انت متناقض جدا يا صلاح</td>\n    </tr>\n    <tr>\n      <th>20166</th>\n      <td>' منطقة السيدة زينب ليلة المولد @ مسجد السيدة ...</td>\n      <td>NaN</td>\n      <td>0</td>\n      <td>منطقة السيدة زينب ليلة المولد مسجد السيدة زينب</td>\n    </tr>\n  </tbody>\n</table>\n<p>20167 rows × 4 columns</p>\n</div>"
          },
          "metadata": {}
        }
      ]
    },
    {
      "cell_type": "markdown",
      "source": [
        "# Bert Tokens"
      ],
      "metadata": {
        "id": "jPrWsm5BAk8A"
      }
    },
    {
      "cell_type": "code",
      "source": [
        "data[\"bert_tokens\"] = data.preprocessing.apply(lambda x: tokenizer(x).tokens())   \n",
        "data[\"encoded\"] = data.text.apply(lambda x: tokenizer.encode_plus(x,return_tensors='pt')['input_ids'])"
      ],
      "metadata": {
        "execution": {
          "iopub.status.busy": "2023-01-05T19:35:50.511036Z",
          "iopub.execute_input": "2023-01-05T19:35:50.511641Z",
          "iopub.status.idle": "2023-01-05T19:35:56.507037Z",
          "shell.execute_reply.started": "2023-01-05T19:35:50.511604Z",
          "shell.execute_reply": "2023-01-05T19:35:56.505965Z"
        },
        "trusted": true,
        "id": "1OZIrOjxAk8B",
        "outputId": "89a3df7d-a832-451a-82cb-814a272add2e"
      },
      "execution_count": null,
      "outputs": [
        {
          "name": "stderr",
          "text": "Token indices sequence length is longer than the specified maximum sequence length for this model (516 > 512). Running this sequence through the model will result in indexing errors\n",
          "output_type": "stream"
        }
      ]
    },
    {
      "cell_type": "code",
      "source": [
        "data"
      ],
      "metadata": {
        "execution": {
          "iopub.status.busy": "2023-01-05T19:35:56.508458Z",
          "iopub.execute_input": "2023-01-05T19:35:56.508842Z",
          "iopub.status.idle": "2023-01-05T19:35:56.556644Z",
          "shell.execute_reply.started": "2023-01-05T19:35:56.508802Z",
          "shell.execute_reply": "2023-01-05T19:35:56.555711Z"
        },
        "trusted": true,
        "id": "tELTeOs7Ak8B",
        "outputId": "0f7295a2-6a20-4a94-eba9-c97f0e760cf5"
      },
      "execution_count": null,
      "outputs": [
        {
          "execution_count": 12,
          "output_type": "execute_result",
          "data": {
            "text/plain": "                                                    text         target  \\\n0      أنصح بالنوم وليس تناول الطعام  موقع مثالي للإق...           موقع   \n1      كانت الغرفة ممتازة وكذلك الموظفون وبوفيه الإفط...         الغرفة   \n2      كانت الغرفة ممتازة وكذلك الموظفون وبوفيه الإفط...       الموظفون   \n3      كانت الغرفة ممتازة وكذلك الموظفون وبوفيه الإفط...  بوفيه الإفطار   \n4      كانت الغرفة ممتازة وكذلك الموظفون وبوفيه الإفط...    وجبة العشاء   \n...                                                  ...            ...   \n20162  ' @wasfa_N الجمال مبيحتاح اي مكياج لناعم وله خ...            NaN   \n20163  ' @TheMurexDor نتمني وجود الفنانة رنا سماحة اف...            NaN   \n20164  ' ولد الهدى فالكائنات ضياء .. وفم الزمان تبسم ...            NaN   \n20165  ' @mohamed71944156 @samarroshdy1 انت متناقض جد...            NaN   \n20166  ' منطقة السيدة زينب ليلة المولد @ مسجد السيدة ...            NaN   \n\n       polarity                                      preprocessing  \\\n0             1  انصح بالنوم وليس تناول الطعام موقع مثالي للاقا...   \n1             1  كانت الغرفة ممتازة وكذلك الموظفون وبوفيه الافط...   \n2             1  كانت الغرفة ممتازة وكذلك الموظفون وبوفيه الافط...   \n3             1  كانت الغرفة ممتازة وكذلك الموظفون وبوفيه الافط...   \n4            -1  كانت الغرفة ممتازة وكذلك الموظفون وبوفيه الافط...   \n...         ...                                                ...   \n20162         0  الجمال مبيحتاح اي مكياج لناعم وله خشن جمل الطا...   \n20163         0  نتمني وجود الفنانة رنا سماحة افضل فنانة صاعدة ...   \n20164         1  ولد الهدى فالكاينات ضياء وفم الزمان تبسم وسناء...   \n20165        -1                             انت متناقض جدا يا صلاح   \n20166         0     منطقة السيدة زينب ليلة المولد مسجد السيدة زينب   \n\n                                             bert_tokens  \\\n0      [[CLS], انص, ##ح, بالن, ##وم, وليس, تناول, الط...   \n1      [[CLS], كانت, الغرفة, ممتازة, وكذلك, الموظفون,...   \n2      [[CLS], كانت, الغرفة, ممتازة, وكذلك, الموظفون,...   \n3      [[CLS], كانت, الغرفة, ممتازة, وكذلك, الموظفون,...   \n4      [[CLS], كانت, الغرفة, ممتازة, وكذلك, الموظفون,...   \n...                                                  ...   \n20162  [[CLS], الجمال, مبي, ##حت, ##اح, اي, مكي, ##اج...   \n20163  [[CLS], نتم, ##ني, وجود, الفنانة, رنا, سماحة, ...   \n20164  [[CLS], ولد, الهدى, فالك, ##اين, ##ات, ضياء, و...   \n20165         [[CLS], انت, متناقض, جدا, يا, صلاح, [SEP]]   \n20166  [[CLS], منطقة, السيدة, زينب, ليلة, المولد, مسج...   \n\n                                                 encoded  \n0      [[tensor(2), tensor(45237), tensor(1245), tens...  \n1      [[tensor(2), tensor(678), tensor(5361), tensor...  \n2      [[tensor(2), tensor(678), tensor(5361), tensor...  \n3      [[tensor(2), tensor(678), tensor(5361), tensor...  \n4      [[tensor(2), tensor(678), tensor(5361), tensor...  \n...                                                  ...  \n20162  [[tensor(2), tensor(13), tensor(37), tensor(92...  \n20163  [[tensor(2), tensor(13), tensor(37), tensor(16...  \n20164  [[tensor(2), tensor(13), tensor(4254), tensor(...  \n20165  [[tensor(2), tensor(13), tensor(37), tensor(82...  \n20166  [[tensor(2), tensor(13), tensor(1111), tensor(...  \n\n[20167 rows x 6 columns]",
            "text/html": "<div>\n<style scoped>\n    .dataframe tbody tr th:only-of-type {\n        vertical-align: middle;\n    }\n\n    .dataframe tbody tr th {\n        vertical-align: top;\n    }\n\n    .dataframe thead th {\n        text-align: right;\n    }\n</style>\n<table border=\"1\" class=\"dataframe\">\n  <thead>\n    <tr style=\"text-align: right;\">\n      <th></th>\n      <th>text</th>\n      <th>target</th>\n      <th>polarity</th>\n      <th>preprocessing</th>\n      <th>bert_tokens</th>\n      <th>encoded</th>\n    </tr>\n  </thead>\n  <tbody>\n    <tr>\n      <th>0</th>\n      <td>أنصح بالنوم وليس تناول الطعام  موقع مثالي للإق...</td>\n      <td>موقع</td>\n      <td>1</td>\n      <td>انصح بالنوم وليس تناول الطعام موقع مثالي للاقا...</td>\n      <td>[[CLS], انص, ##ح, بالن, ##وم, وليس, تناول, الط...</td>\n      <td>[[tensor(2), tensor(45237), tensor(1245), tens...</td>\n    </tr>\n    <tr>\n      <th>1</th>\n      <td>كانت الغرفة ممتازة وكذلك الموظفون وبوفيه الإفط...</td>\n      <td>الغرفة</td>\n      <td>1</td>\n      <td>كانت الغرفة ممتازة وكذلك الموظفون وبوفيه الافط...</td>\n      <td>[[CLS], كانت, الغرفة, ممتازة, وكذلك, الموظفون,...</td>\n      <td>[[tensor(2), tensor(678), tensor(5361), tensor...</td>\n    </tr>\n    <tr>\n      <th>2</th>\n      <td>كانت الغرفة ممتازة وكذلك الموظفون وبوفيه الإفط...</td>\n      <td>الموظفون</td>\n      <td>1</td>\n      <td>كانت الغرفة ممتازة وكذلك الموظفون وبوفيه الافط...</td>\n      <td>[[CLS], كانت, الغرفة, ممتازة, وكذلك, الموظفون,...</td>\n      <td>[[tensor(2), tensor(678), tensor(5361), tensor...</td>\n    </tr>\n    <tr>\n      <th>3</th>\n      <td>كانت الغرفة ممتازة وكذلك الموظفون وبوفيه الإفط...</td>\n      <td>بوفيه الإفطار</td>\n      <td>1</td>\n      <td>كانت الغرفة ممتازة وكذلك الموظفون وبوفيه الافط...</td>\n      <td>[[CLS], كانت, الغرفة, ممتازة, وكذلك, الموظفون,...</td>\n      <td>[[tensor(2), tensor(678), tensor(5361), tensor...</td>\n    </tr>\n    <tr>\n      <th>4</th>\n      <td>كانت الغرفة ممتازة وكذلك الموظفون وبوفيه الإفط...</td>\n      <td>وجبة العشاء</td>\n      <td>-1</td>\n      <td>كانت الغرفة ممتازة وكذلك الموظفون وبوفيه الافط...</td>\n      <td>[[CLS], كانت, الغرفة, ممتازة, وكذلك, الموظفون,...</td>\n      <td>[[tensor(2), tensor(678), tensor(5361), tensor...</td>\n    </tr>\n    <tr>\n      <th>...</th>\n      <td>...</td>\n      <td>...</td>\n      <td>...</td>\n      <td>...</td>\n      <td>...</td>\n      <td>...</td>\n    </tr>\n    <tr>\n      <th>20162</th>\n      <td>' @wasfa_N الجمال مبيحتاح اي مكياج لناعم وله خ...</td>\n      <td>NaN</td>\n      <td>0</td>\n      <td>الجمال مبيحتاح اي مكياج لناعم وله خشن جمل الطا...</td>\n      <td>[[CLS], الجمال, مبي, ##حت, ##اح, اي, مكي, ##اج...</td>\n      <td>[[tensor(2), tensor(13), tensor(37), tensor(92...</td>\n    </tr>\n    <tr>\n      <th>20163</th>\n      <td>' @TheMurexDor نتمني وجود الفنانة رنا سماحة اف...</td>\n      <td>NaN</td>\n      <td>0</td>\n      <td>نتمني وجود الفنانة رنا سماحة افضل فنانة صاعدة ...</td>\n      <td>[[CLS], نتم, ##ني, وجود, الفنانة, رنا, سماحة, ...</td>\n      <td>[[tensor(2), tensor(13), tensor(37), tensor(16...</td>\n    </tr>\n    <tr>\n      <th>20164</th>\n      <td>' ولد الهدى فالكائنات ضياء .. وفم الزمان تبسم ...</td>\n      <td>NaN</td>\n      <td>1</td>\n      <td>ولد الهدى فالكاينات ضياء وفم الزمان تبسم وسناء...</td>\n      <td>[[CLS], ولد, الهدى, فالك, ##اين, ##ات, ضياء, و...</td>\n      <td>[[tensor(2), tensor(13), tensor(4254), tensor(...</td>\n    </tr>\n    <tr>\n      <th>20165</th>\n      <td>' @mohamed71944156 @samarroshdy1 انت متناقض جد...</td>\n      <td>NaN</td>\n      <td>-1</td>\n      <td>انت متناقض جدا يا صلاح</td>\n      <td>[[CLS], انت, متناقض, جدا, يا, صلاح, [SEP]]</td>\n      <td>[[tensor(2), tensor(13), tensor(37), tensor(82...</td>\n    </tr>\n    <tr>\n      <th>20166</th>\n      <td>' منطقة السيدة زينب ليلة المولد @ مسجد السيدة ...</td>\n      <td>NaN</td>\n      <td>0</td>\n      <td>منطقة السيدة زينب ليلة المولد مسجد السيدة زينب</td>\n      <td>[[CLS], منطقة, السيدة, زينب, ليلة, المولد, مسج...</td>\n      <td>[[tensor(2), tensor(13), tensor(1111), tensor(...</td>\n    </tr>\n  </tbody>\n</table>\n<p>20167 rows × 6 columns</p>\n</div>"
          },
          "metadata": {}
        }
      ]
    },
    {
      "cell_type": "markdown",
      "source": [
        "# Enable GPU Cuda"
      ],
      "metadata": {
        "id": "FtBf7VQqAk8C"
      }
    },
    {
      "cell_type": "code",
      "source": [
        "import torch\n",
        "\n",
        "# If there's a GPU available...\n",
        "if torch.cuda.is_available():    \n",
        "\n",
        "    # Tell PyTorch to use the GPU.    \n",
        "    device = torch.device(\"cuda\")\n",
        "\n",
        "    print('There are %d GPU(s) available.' % torch.cuda.device_count())\n",
        "\n",
        "    print('We will use the GPU:', torch.cuda.get_device_name(0))\n",
        "    !nvidia-smi\n",
        "\n",
        "# If not...\n",
        "else:\n",
        "    print('No GPU available, using the CPU instead.')\n",
        "    device = torch.device(\"cpu\")"
      ],
      "metadata": {
        "execution": {
          "iopub.status.busy": "2023-01-05T19:35:56.557944Z",
          "iopub.execute_input": "2023-01-05T19:35:56.558777Z",
          "iopub.status.idle": "2023-01-05T19:35:57.720738Z",
          "shell.execute_reply.started": "2023-01-05T19:35:56.558740Z",
          "shell.execute_reply": "2023-01-05T19:35:57.719500Z"
        },
        "trusted": true,
        "id": "9HeKpXzNAk8C",
        "outputId": "d6fd96ed-1a4d-4c31-b47b-63426342bb74"
      },
      "execution_count": null,
      "outputs": [
        {
          "name": "stdout",
          "text": "There are 1 GPU(s) available.\nWe will use the GPU: Tesla P100-PCIE-16GB\nhuggingface/tokenizers: The current process just got forked, after parallelism has already been used. Disabling parallelism to avoid deadlocks...\nTo disable this warning, you can either:\n\t- Avoid using `tokenizers` before the fork if possible\n\t- Explicitly set the environment variable TOKENIZERS_PARALLELISM=(true | false)\nThu Jan  5 19:35:57 2023       \n+-----------------------------------------------------------------------------+\n| NVIDIA-SMI 470.82.01    Driver Version: 470.82.01    CUDA Version: 11.4     |\n|-------------------------------+----------------------+----------------------+\n| GPU  Name        Persistence-M| Bus-Id        Disp.A | Volatile Uncorr. ECC |\n| Fan  Temp  Perf  Pwr:Usage/Cap|         Memory-Usage | GPU-Util  Compute M. |\n|                               |                      |               MIG M. |\n|===============================+======================+======================|\n|   0  Tesla P100-PCIE...  Off  | 00000000:00:04.0 Off |                    0 |\n| N/A   41C    P0    27W / 250W |      2MiB / 16280MiB |      0%      Default |\n|                               |                      |                  N/A |\n+-------------------------------+----------------------+----------------------+\n                                                                               \n+-----------------------------------------------------------------------------+\n| Processes:                                                                  |\n|  GPU   GI   CI        PID   Type   Process name                  GPU Memory |\n|        ID   ID                                                   Usage      |\n|=============================================================================|\n|  No running processes found                                                 |\n+-----------------------------------------------------------------------------+\n",
          "output_type": "stream"
        }
      ]
    },
    {
      "cell_type": "code",
      "source": [
        "bert_tokens = data[\"bert_tokens\"]\n",
        "labels = data[\"polarity\"]\n",
        "le = preprocessing.LabelEncoder()\n",
        "Encodedlabels =le.fit_transform(labels)"
      ],
      "metadata": {
        "execution": {
          "iopub.status.busy": "2023-01-05T19:35:57.722881Z",
          "iopub.execute_input": "2023-01-05T19:35:57.723692Z",
          "iopub.status.idle": "2023-01-05T19:35:57.732863Z",
          "shell.execute_reply.started": "2023-01-05T19:35:57.723647Z",
          "shell.execute_reply": "2023-01-05T19:35:57.731925Z"
        },
        "trusted": true,
        "id": "LZFWSkusAk8D"
      },
      "execution_count": null,
      "outputs": []
    },
    {
      "cell_type": "code",
      "source": [
        "MAX_LEN = 256\n",
        "# Using bert toknizier to convert from tokens to indexs\n",
        "input_ids = [tokenizer.convert_tokens_to_ids(x) for x in bert_tokens]\n",
        "# Pad our input tokens\n",
        "input_ids = pad_sequences(input_ids, maxlen=MAX_LEN, dtype=\"long\", truncating=\"post\", padding=\"post\")\n",
        "# Create attention masks\n",
        "attention_masks = []\n",
        "\n",
        "# Create a mask of 1s for each token followed by 0s for padding\n",
        "for seq in input_ids:\n",
        "  seq_mask = [float(i>0) for i in seq]\n",
        "  attention_masks.append(seq_mask)"
      ],
      "metadata": {
        "execution": {
          "iopub.status.busy": "2023-01-05T19:35:57.734402Z",
          "iopub.execute_input": "2023-01-05T19:35:57.735206Z",
          "iopub.status.idle": "2023-01-05T19:36:00.703727Z",
          "shell.execute_reply.started": "2023-01-05T19:35:57.735169Z",
          "shell.execute_reply": "2023-01-05T19:36:00.702733Z"
        },
        "trusted": true,
        "id": "iLiKK-fwAk8D"
      },
      "execution_count": null,
      "outputs": []
    },
    {
      "cell_type": "markdown",
      "source": [
        "# Train Test Split"
      ],
      "metadata": {
        "id": "cvkBq2TAAk8D"
      }
    },
    {
      "cell_type": "code",
      "source": [
        "train_inputs, validation_inputs, train_labels, validation_labels = train_test_split(input_ids, Encodedlabels, \n",
        "                                                            random_state=42, test_size=0.1,stratify=Encodedlabels)\n",
        "train_masks, validation_masks, _, _ = train_test_split(attention_masks, input_ids,\n",
        "                                             random_state=42, test_size=0.1)\n"
      ],
      "metadata": {
        "execution": {
          "iopub.status.busy": "2023-01-05T19:36:00.705224Z",
          "iopub.execute_input": "2023-01-05T19:36:00.705658Z",
          "iopub.status.idle": "2023-01-05T19:36:00.759715Z",
          "shell.execute_reply.started": "2023-01-05T19:36:00.705617Z",
          "shell.execute_reply": "2023-01-05T19:36:00.758723Z"
        },
        "trusted": true,
        "id": "6OsxQ1GPAk8E"
      },
      "execution_count": null,
      "outputs": []
    },
    {
      "cell_type": "markdown",
      "source": [
        "# convert data into torch"
      ],
      "metadata": {
        "id": "fNJ3iKbDAk8E"
      }
    },
    {
      "cell_type": "code",
      "source": [
        "train_inputs = torch.tensor(train_inputs)\n",
        "validation_inputs = torch.tensor(validation_inputs)\n",
        "train_labels = torch.tensor(train_labels)\n",
        "validation_labels = torch.tensor(validation_labels)\n",
        "train_masks = torch.tensor(train_masks)\n",
        "validation_masks = torch.tensor(validation_masks)\n",
        "\n",
        "batch_size = 32\n",
        "\n",
        "\n",
        "train_data = TensorDataset(train_inputs, train_masks, train_labels)\n",
        "train_dataloader = DataLoader(train_data, batch_size=batch_size, shuffle=True)\n",
        "\n",
        "validation_data = TensorDataset(validation_inputs, validation_masks, validation_labels)\n",
        "validation_dataloader = DataLoader(validation_data, batch_size=batch_size)"
      ],
      "metadata": {
        "execution": {
          "iopub.status.busy": "2023-01-05T19:36:00.761144Z",
          "iopub.execute_input": "2023-01-05T19:36:00.762136Z",
          "iopub.status.idle": "2023-01-05T19:36:01.017499Z",
          "shell.execute_reply.started": "2023-01-05T19:36:00.762098Z",
          "shell.execute_reply": "2023-01-05T19:36:01.016416Z"
        },
        "trusted": true,
        "id": "-ZM3cw38Ak8E"
      },
      "execution_count": null,
      "outputs": []
    },
    {
      "cell_type": "code",
      "source": [
        "import torch.optim as optim\n",
        "\n",
        "param_optimizer = list(deep_model.named_parameters())\n",
        "no_decay = ['bias', 'gamma', 'beta']\n",
        "optimizer_grouped_parameters = [{'params': [p for n, p in param_optimizer if not any(nd in n for nd in no_decay)],'weight_decay_rate': 0.01},\n",
        "                                {'params': [p for n, p in param_optimizer if any(nd in n for nd in no_decay)],'weight_decay_rate': 0.0}]\n",
        "\n",
        "optimizer = optim.AdamW(optimizer_grouped_parameters,lr=2e-5)"
      ],
      "metadata": {
        "execution": {
          "iopub.status.busy": "2023-01-05T19:36:01.019248Z",
          "iopub.execute_input": "2023-01-05T19:36:01.019639Z",
          "iopub.status.idle": "2023-01-05T19:36:01.028292Z",
          "shell.execute_reply.started": "2023-01-05T19:36:01.019602Z",
          "shell.execute_reply": "2023-01-05T19:36:01.027222Z"
        },
        "trusted": true,
        "id": "p603_HYVAk8E"
      },
      "execution_count": null,
      "outputs": []
    },
    {
      "cell_type": "markdown",
      "source": [
        "# Model Testing"
      ],
      "metadata": {
        "id": "2aFU2Og7Ak8F"
      }
    },
    {
      "cell_type": "code",
      "source": [
        "from tqdm import tqdm, trange\n",
        "def flat_accuracy(preds, labels):\n",
        "    pred_flat = np.argmax(preds, axis=1).flatten()\n",
        "    labels_flat = labels.flatten()\n",
        "    return np.sum(pred_flat == labels_flat) / len(labels_flat)\n",
        "t = []\n",
        "\n",
        "\n",
        "train_loss_set = []\n",
        "\n",
        "# Number of training epochs \n",
        "epochs = 6\n",
        "\n",
        "# Transfer the model to GPU\n",
        "deep_model.to(\"cuda\")\n",
        "\n",
        "# trange is a tqdm wrapper around the normal python range\n",
        "for _ in trange(epochs, desc=\"Epoch\"):\n",
        "  \n",
        "  \n",
        "  # Training\n",
        "  \n",
        "  # Set our model to training mode (as opposed to evaluation mode)\n",
        "  deep_model.train()\n",
        "  \n",
        "  # Tracking variables\n",
        "  tr_loss = 0\n",
        "  nb_tr_examples, nb_tr_steps = 0, 0\n",
        "  \n",
        "  # Train the data for one epoch\n",
        "  for step, batch in enumerate(train_dataloader):\n",
        "    # Add batch to GPU\n",
        "    b_input_ids, b_input_mask, b_labels = batch\n",
        "\n",
        "    # Clear out the gradients (by default they accumulate)\n",
        "    optimizer.zero_grad()\n",
        "\n",
        "    # Forward pass\n",
        "    loss = deep_model(b_input_ids.to(\"cuda\"), token_type_ids=None, attention_mask=b_input_mask.to(\"cuda\"), labels=b_labels.to(\"cuda\"))[\"loss\"]\n",
        "    train_loss_set.append(loss.item())\n",
        "\n",
        "    # Backward pass\n",
        "    loss.backward()\n",
        "    \n",
        "    # Update parameters and take a step using the computed gradient\n",
        "    optimizer.step()\n",
        "    \n",
        "    \n",
        "    # Update tracking variables\n",
        "    tr_loss += loss.item()\n",
        "    nb_tr_examples += b_input_ids.size(0)\n",
        "    nb_tr_steps += 1\n",
        "\n",
        "  print(\"Train loss: {}\".format(tr_loss/nb_tr_steps))\n",
        "    \n",
        "  # Validation\n",
        "\n",
        "  # Put model in evaluation mode to evaluate loss on the validation set\n",
        "  deep_model.eval()\n",
        "\n",
        "  # Tracking variables \n",
        "  eval_loss, eval_accuracy = 0, 0\n",
        "  nb_eval_steps, nb_eval_examples = 0, 0\n",
        "\n",
        "  # Evaluate data for one epoch\n",
        "  for batch in validation_dataloader:\n",
        "    # Add batch to GPU\n",
        "    # batch = tuple(t.to(device) for t in batch)\n",
        "    # Unpack the inputs from our dataloader\n",
        "    b_input_ids, b_input_mask, b_labels = batch\n",
        "    # Telling the model not to compute or store gradients, saving memory and speeding up validation\n",
        "    with torch.no_grad():\n",
        "      \n",
        "      logits = deep_model(b_input_ids.to(\"cuda\"), token_type_ids=None, attention_mask=b_input_mask.to(\"cuda\"))\n",
        "    \n",
        "    # Move logits and labels to CPU\n",
        "    logits = logits[\"logits\"].detach().cpu().numpy()\n",
        "    label_ids = b_labels.to('cpu').numpy()\n",
        "\n",
        "    tmp_eval_accuracy = flat_accuracy(logits, label_ids)\n",
        "    \n",
        "    eval_accuracy += tmp_eval_accuracy\n",
        "    nb_eval_steps += 1\n",
        "\n",
        "  print(\"Validation Accuracy: {}\".format(eval_accuracy/nb_eval_steps))\n",
        "  "
      ],
      "metadata": {
        "execution": {
          "iopub.status.busy": "2023-01-05T20:35:57.014222Z",
          "iopub.execute_input": "2023-01-05T20:35:57.014666Z",
          "iopub.status.idle": "2023-01-05T21:19:10.275990Z",
          "shell.execute_reply.started": "2023-01-05T20:35:57.014624Z",
          "shell.execute_reply": "2023-01-05T21:19:10.274974Z"
        },
        "trusted": true,
        "id": "FdPGw44UAk8F",
        "outputId": "92ea42ed-fcaa-427a-b8b2-2cac14a04138"
      },
      "execution_count": null,
      "outputs": [
        {
          "name": "stderr",
          "text": "Epoch:   0%|          | 0/6 [00:00<?, ?it/s]",
          "output_type": "stream"
        },
        {
          "name": "stdout",
          "text": "Train loss: 0.12205388956263818\n",
          "output_type": "stream"
        },
        {
          "name": "stderr",
          "text": "Epoch:  17%|█▋        | 1/6 [07:12<36:01, 432.32s/it]",
          "output_type": "stream"
        },
        {
          "name": "stdout",
          "text": "Validation Accuracy: 0.8447265625\nTrain loss: 0.09916503533506175\n",
          "output_type": "stream"
        },
        {
          "name": "stderr",
          "text": "Epoch:  33%|███▎      | 2/6 [14:24<28:48, 432.23s/it]",
          "output_type": "stream"
        },
        {
          "name": "stdout",
          "text": "Validation Accuracy: 0.8125\nTrain loss: 0.08813364028686356\n",
          "output_type": "stream"
        },
        {
          "name": "stderr",
          "text": "Epoch:  50%|█████     | 3/6 [21:36<21:36, 432.15s/it]",
          "output_type": "stream"
        },
        {
          "name": "stdout",
          "text": "Validation Accuracy: 0.8134765625\nTrain loss: 0.07617126515669696\n",
          "output_type": "stream"
        },
        {
          "name": "stderr",
          "text": "Epoch:  67%|██████▋   | 4/6 [28:48<14:24, 432.17s/it]",
          "output_type": "stream"
        },
        {
          "name": "stdout",
          "text": "Validation Accuracy: 0.81640625\nTrain loss: 0.07054473241441883\n",
          "output_type": "stream"
        },
        {
          "name": "stderr",
          "text": "Epoch:  83%|████████▎ | 5/6 [36:00<07:12, 432.19s/it]",
          "output_type": "stream"
        },
        {
          "name": "stdout",
          "text": "Validation Accuracy: 0.81884765625\nTrain loss: 0.06660072976085078\n",
          "output_type": "stream"
        },
        {
          "name": "stderr",
          "text": "Epoch: 100%|██████████| 6/6 [43:13<00:00, 432.20s/it]",
          "output_type": "stream"
        },
        {
          "name": "stdout",
          "text": "Validation Accuracy: 0.81201171875\n",
          "output_type": "stream"
        },
        {
          "name": "stderr",
          "text": "\n",
          "output_type": "stream"
        }
      ]
    },
    {
      "cell_type": "markdown",
      "source": [
        "# Saving model"
      ],
      "metadata": {
        "id": "QRxsx0O4Ak8G"
      }
    },
    {
      "cell_type": "code",
      "source": [
        "torch.save(deep_model, 'model.pth')"
      ],
      "metadata": {
        "trusted": true,
        "id": "JaH7WJSWAk8G"
      },
      "execution_count": null,
      "outputs": []
    },
    {
      "cell_type": "code",
      "source": [
        "test_data= pd.read_csv(\"/kaggle/input/aaaaaa/train.csv\")\n",
        "test_data.columns = ['text','target']\n",
        "test_data"
      ],
      "metadata": {
        "execution": {
          "iopub.status.busy": "2023-01-05T21:19:10.277998Z",
          "iopub.execute_input": "2023-01-05T21:19:10.278942Z",
          "iopub.status.idle": "2023-01-05T21:19:10.318763Z",
          "shell.execute_reply.started": "2023-01-05T21:19:10.278885Z",
          "shell.execute_reply": "2023-01-05T21:19:10.317777Z"
        },
        "trusted": true,
        "id": "EmV0iONYAk8G",
        "outputId": "94708210-946a-4a2c-a439-98657a9f8f3e"
      },
      "execution_count": null,
      "outputs": [
        {
          "execution_count": 23,
          "output_type": "execute_result",
          "data": {
            "text/plain": "                                                   text target\n0     ' #علمتني_الحياه أن الذين يعيشون على الأرض ليس...    pos\n1     ' #ميري_كرسمس كل سنة وانتم طيبين http://t.co/n...    pos\n2                             ' و انتهى مشوار الخواجة '    neg\n3                      ' مش عارف ابتدى مذاكره منين :/ '    neg\n4     ' @mskhafagi  إختصروا الطريق بدلا من إختيار ال...    neg\n...                                                 ...    ...\n2054  ' @wasfa_N الجمال مبيحتاح اي مكياج لناعم وله خ...    neu\n2055  ' @TheMurexDor نتمني وجود الفنانة رنا سماحة اف...    neu\n2056  ' ولد الهدى فالكائنات ضياء .. وفم الزمان تبسم ...    pos\n2057  ' @mohamed71944156 @samarroshdy1 انت متناقض جد...    neg\n2058  ' منطقة السيدة زينب ليلة المولد @ مسجد السيدة ...    neu\n\n[2059 rows x 2 columns]",
            "text/html": "<div>\n<style scoped>\n    .dataframe tbody tr th:only-of-type {\n        vertical-align: middle;\n    }\n\n    .dataframe tbody tr th {\n        vertical-align: top;\n    }\n\n    .dataframe thead th {\n        text-align: right;\n    }\n</style>\n<table border=\"1\" class=\"dataframe\">\n  <thead>\n    <tr style=\"text-align: right;\">\n      <th></th>\n      <th>text</th>\n      <th>target</th>\n    </tr>\n  </thead>\n  <tbody>\n    <tr>\n      <th>0</th>\n      <td>' #علمتني_الحياه أن الذين يعيشون على الأرض ليس...</td>\n      <td>pos</td>\n    </tr>\n    <tr>\n      <th>1</th>\n      <td>' #ميري_كرسمس كل سنة وانتم طيبين http://t.co/n...</td>\n      <td>pos</td>\n    </tr>\n    <tr>\n      <th>2</th>\n      <td>' و انتهى مشوار الخواجة '</td>\n      <td>neg</td>\n    </tr>\n    <tr>\n      <th>3</th>\n      <td>' مش عارف ابتدى مذاكره منين :/ '</td>\n      <td>neg</td>\n    </tr>\n    <tr>\n      <th>4</th>\n      <td>' @mskhafagi  إختصروا الطريق بدلا من إختيار ال...</td>\n      <td>neg</td>\n    </tr>\n    <tr>\n      <th>...</th>\n      <td>...</td>\n      <td>...</td>\n    </tr>\n    <tr>\n      <th>2054</th>\n      <td>' @wasfa_N الجمال مبيحتاح اي مكياج لناعم وله خ...</td>\n      <td>neu</td>\n    </tr>\n    <tr>\n      <th>2055</th>\n      <td>' @TheMurexDor نتمني وجود الفنانة رنا سماحة اف...</td>\n      <td>neu</td>\n    </tr>\n    <tr>\n      <th>2056</th>\n      <td>' ولد الهدى فالكائنات ضياء .. وفم الزمان تبسم ...</td>\n      <td>pos</td>\n    </tr>\n    <tr>\n      <th>2057</th>\n      <td>' @mohamed71944156 @samarroshdy1 انت متناقض جد...</td>\n      <td>neg</td>\n    </tr>\n    <tr>\n      <th>2058</th>\n      <td>' منطقة السيدة زينب ليلة المولد @ مسجد السيدة ...</td>\n      <td>neu</td>\n    </tr>\n  </tbody>\n</table>\n<p>2059 rows × 2 columns</p>\n</div>"
          },
          "metadata": {}
        }
      ]
    },
    {
      "cell_type": "code",
      "source": [
        "test_data['preprocessing'] =test_data.iloc[:,0].apply(lambda x:data_cleaning(x))\n",
        "test_data['preprocessing'] =test_data['preprocessing'] .apply(lambda x:arabert_prep.preprocess(x))\n",
        "\n",
        "test_data[\"bert_tokens\"] = test_data.preprocessing.apply(lambda x: tokenizer(x).tokens())   \n",
        "test_data[\"encoded\"] = test_data.text.apply(lambda x: tokenizer.encode_plus(x,return_tensors='pt')['input_ids'])"
      ],
      "metadata": {
        "execution": {
          "iopub.status.busy": "2023-01-05T21:23:44.210408Z",
          "iopub.execute_input": "2023-01-05T21:23:44.210854Z",
          "iopub.status.idle": "2023-01-05T21:23:52.337860Z",
          "shell.execute_reply.started": "2023-01-05T21:23:44.210814Z",
          "shell.execute_reply": "2023-01-05T21:23:52.336899Z"
        },
        "trusted": true,
        "id": "aktC-F6IAk8G"
      },
      "execution_count": null,
      "outputs": []
    },
    {
      "cell_type": "code",
      "source": [
        "MAX_LEN = 256\n",
        "# Use the BERT tokenizer to convert the tokens to their index numbers in the BERT vocabulary\n",
        "input_ids_submit = [tokenizer.convert_tokens_to_ids(x) for x in test_data[\"bert_tokens\"] ]\n",
        "# Pad our input tokens\n",
        "input_ids_submit = pad_sequences(input_ids_submit, maxlen=MAX_LEN, dtype=\"long\", truncating=\"post\", padding=\"post\")\n",
        "# Create attention masks\n",
        "attention_masks_submit = []\n",
        "\n",
        "# Create a mask of 1s for each token followed by 0s for padding\n",
        "for seq in input_ids_submit:\n",
        "  seq_mask = [float(i>0) for i in seq]\n",
        "  attention_masks_submit.append(seq_mask)"
      ],
      "metadata": {
        "execution": {
          "iopub.status.busy": "2023-01-05T21:24:04.724599Z",
          "iopub.execute_input": "2023-01-05T21:24:04.724978Z",
          "iopub.status.idle": "2023-01-05T21:24:04.981117Z",
          "shell.execute_reply.started": "2023-01-05T21:24:04.724945Z",
          "shell.execute_reply": "2023-01-05T21:24:04.978958Z"
        },
        "trusted": true,
        "id": "o3OeNYs2Ak8H"
      },
      "execution_count": null,
      "outputs": []
    },
    {
      "cell_type": "code",
      "source": [
        "inputs_submit = torch.tensor(input_ids_submit)\n",
        "masks_submit = torch.tensor(attention_masks_submit)\n",
        "\n",
        "# Create an iterator of our data with torch DataLoader. This helps save on memory during training because, unlike a for loop, \n",
        "# with an iterator the entire dataset does not need to be loaded into memory\n",
        "batch_size =32\n",
        "submit_data = TensorDataset(inputs_submit, masks_submit)\n",
        "\n",
        "# do not use shuffle, we need the preds to be in same order\n",
        "submit_dataloader = DataLoader(submit_data, batch_size=batch_size)#, shuffle=True)"
      ],
      "metadata": {
        "execution": {
          "iopub.status.busy": "2023-01-05T21:24:06.052584Z",
          "iopub.execute_input": "2023-01-05T21:24:06.052955Z",
          "iopub.status.idle": "2023-01-05T21:24:06.082029Z",
          "shell.execute_reply.started": "2023-01-05T21:24:06.052917Z",
          "shell.execute_reply": "2023-01-05T21:24:06.081142Z"
        },
        "trusted": true,
        "id": "R8rzcyJLAk8H"
      },
      "execution_count": null,
      "outputs": []
    },
    {
      "cell_type": "code",
      "source": [
        "deep_model.to(\"cuda\")\n",
        "\n",
        "outputs = []\n",
        "for input, masks in submit_dataloader:\n",
        "  torch.cuda.empty_cache() # empty the gpu memory\n",
        "\n",
        "  # Transfer the batch to gpu\n",
        "  input = input.to('cuda')\n",
        "  masks = masks.to('cuda')\n",
        "\n",
        "  # Run inference on the batch\n",
        "  output = deep_model(input, attention_mask=masks)[\"logits\"]\n",
        "\n",
        "  # Transfer the output to CPU again and convert to numpy\n",
        "  output = output.cpu().detach().numpy()\n",
        "\n",
        "  # Store the output in a list\n",
        "  outputs.append(output)\n",
        "\n",
        "# Concatenate all the lists within the list into one list\n",
        "outputs = [x for y in outputs for x in y]\n",
        "\n",
        "# Inverse transform the label encoding\n",
        "pred_flat = np.argmax(outputs, axis=1).flatten()\n",
        "output_labels = le.inverse_transform(pred_flat)"
      ],
      "metadata": {
        "execution": {
          "iopub.status.busy": "2023-01-05T21:24:07.189871Z",
          "iopub.execute_input": "2023-01-05T21:24:07.190570Z",
          "iopub.status.idle": "2023-01-05T21:24:36.513377Z",
          "shell.execute_reply.started": "2023-01-05T21:24:07.190536Z",
          "shell.execute_reply": "2023-01-05T21:24:36.512391Z"
        },
        "trusted": true,
        "id": "7aBkldD7Ak8H"
      },
      "execution_count": null,
      "outputs": []
    },
    {
      "cell_type": "code",
      "source": [
        "submission = pd.DataFrame({\"Id\":np.arange(1, len(output_labels)+1), \"class\":output_labels})\n",
        "# save (submission)\n",
        "submission.to_csv(\"submission.csv\", index=False)"
      ],
      "metadata": {
        "execution": {
          "iopub.status.busy": "2023-01-05T21:24:36.515566Z",
          "iopub.execute_input": "2023-01-05T21:24:36.515959Z",
          "iopub.status.idle": "2023-01-05T21:24:36.527222Z",
          "shell.execute_reply.started": "2023-01-05T21:24:36.515923Z",
          "shell.execute_reply": "2023-01-05T21:24:36.526283Z"
        },
        "trusted": true,
        "id": "vZeUL0j5Ak8I"
      },
      "execution_count": null,
      "outputs": []
    },
    {
      "cell_type": "code",
      "source": [
        "from sklearn.metrics import f1_score"
      ],
      "metadata": {
        "execution": {
          "iopub.status.busy": "2023-01-05T21:32:52.487574Z",
          "iopub.execute_input": "2023-01-05T21:32:52.487936Z",
          "iopub.status.idle": "2023-01-05T21:32:52.492237Z",
          "shell.execute_reply.started": "2023-01-05T21:32:52.487887Z",
          "shell.execute_reply": "2023-01-05T21:32:52.491286Z"
        },
        "trusted": true,
        "id": "CUiG9NNZAk8I"
      },
      "execution_count": null,
      "outputs": []
    },
    {
      "cell_type": "code",
      "source": [
        "f1_score(submission, pred)"
      ],
      "metadata": {
        "id": "X_UPO2KqAk8J"
      },
      "execution_count": null,
      "outputs": []
    },
    {
      "cell_type": "code",
      "source": [
        "submission"
      ],
      "metadata": {
        "execution": {
          "iopub.status.busy": "2023-01-05T21:24:36.528498Z",
          "iopub.execute_input": "2023-01-05T21:24:36.529584Z",
          "iopub.status.idle": "2023-01-05T21:24:36.541327Z",
          "shell.execute_reply.started": "2023-01-05T21:24:36.529549Z",
          "shell.execute_reply": "2023-01-05T21:24:36.540293Z"
        },
        "trusted": true,
        "id": "Q02z_1lPAk8J",
        "outputId": "6b48244b-927a-4abc-feea-4b2ff5b9e41e"
      },
      "execution_count": null,
      "outputs": [
        {
          "execution_count": 31,
          "output_type": "execute_result",
          "data": {
            "text/plain": "        Id  class\n0        1      0\n1        2      1\n2        3     -1\n3        4     -1\n4        5     -1\n...    ...    ...\n2054  2055      0\n2055  2056      1\n2056  2057      1\n2057  2058     -1\n2058  2059      0\n\n[2059 rows x 2 columns]",
            "text/html": "<div>\n<style scoped>\n    .dataframe tbody tr th:only-of-type {\n        vertical-align: middle;\n    }\n\n    .dataframe tbody tr th {\n        vertical-align: top;\n    }\n\n    .dataframe thead th {\n        text-align: right;\n    }\n</style>\n<table border=\"1\" class=\"dataframe\">\n  <thead>\n    <tr style=\"text-align: right;\">\n      <th></th>\n      <th>Id</th>\n      <th>class</th>\n    </tr>\n  </thead>\n  <tbody>\n    <tr>\n      <th>0</th>\n      <td>1</td>\n      <td>0</td>\n    </tr>\n    <tr>\n      <th>1</th>\n      <td>2</td>\n      <td>1</td>\n    </tr>\n    <tr>\n      <th>2</th>\n      <td>3</td>\n      <td>-1</td>\n    </tr>\n    <tr>\n      <th>3</th>\n      <td>4</td>\n      <td>-1</td>\n    </tr>\n    <tr>\n      <th>4</th>\n      <td>5</td>\n      <td>-1</td>\n    </tr>\n    <tr>\n      <th>...</th>\n      <td>...</td>\n      <td>...</td>\n    </tr>\n    <tr>\n      <th>2054</th>\n      <td>2055</td>\n      <td>0</td>\n    </tr>\n    <tr>\n      <th>2055</th>\n      <td>2056</td>\n      <td>1</td>\n    </tr>\n    <tr>\n      <th>2056</th>\n      <td>2057</td>\n      <td>1</td>\n    </tr>\n    <tr>\n      <th>2057</th>\n      <td>2058</td>\n      <td>-1</td>\n    </tr>\n    <tr>\n      <th>2058</th>\n      <td>2059</td>\n      <td>0</td>\n    </tr>\n  </tbody>\n</table>\n<p>2059 rows × 2 columns</p>\n</div>"
          },
          "metadata": {}
        }
      ]
    },
    {
      "cell_type": "code",
      "source": [
        "test_data[]"
      ],
      "metadata": {
        "id": "dB18KtnoAk8K"
      },
      "execution_count": null,
      "outputs": []
    },
    {
      "cell_type": "code",
      "source": [
        "test_data['target'] = test_data['target'].replace(['neg'], -1)\n",
        "test_data['target'] = test_data['target'].replace(['pos'], 1)\n",
        "test_data['target'] = test_data['target'].replace(['neu'], 0)"
      ],
      "metadata": {
        "execution": {
          "iopub.status.busy": "2023-01-05T21:32:32.225843Z",
          "iopub.execute_input": "2023-01-05T21:32:32.226331Z",
          "iopub.status.idle": "2023-01-05T21:32:32.238534Z",
          "shell.execute_reply.started": "2023-01-05T21:32:32.226290Z",
          "shell.execute_reply": "2023-01-05T21:32:32.237411Z"
        },
        "trusted": true,
        "id": "jd1Zt3KfAk8K"
      },
      "execution_count": null,
      "outputs": []
    },
    {
      "cell_type": "code",
      "source": [
        "test_data['target']"
      ],
      "metadata": {
        "execution": {
          "iopub.status.busy": "2023-01-05T21:32:37.054641Z",
          "iopub.execute_input": "2023-01-05T21:32:37.055025Z",
          "iopub.status.idle": "2023-01-05T21:32:37.067117Z",
          "shell.execute_reply.started": "2023-01-05T21:32:37.054994Z",
          "shell.execute_reply": "2023-01-05T21:32:37.065897Z"
        },
        "trusted": true,
        "id": "fLiykGIVAk8K",
        "outputId": "ee36e2ac-ee9d-43f0-c858-5191ad52499d"
      },
      "execution_count": null,
      "outputs": [
        {
          "execution_count": 34,
          "output_type": "execute_result",
          "data": {
            "text/plain": "0       1\n1       1\n2      -1\n3      -1\n4      -1\n       ..\n2054    0\n2055    0\n2056    1\n2057   -1\n2058    0\nName: target, Length: 2059, dtype: int64"
          },
          "metadata": {}
        }
      ]
    },
    {
      "cell_type": "code",
      "source": [
        "f1_score(submission['class'], test_data['target'],average='micro')"
      ],
      "metadata": {
        "execution": {
          "iopub.status.busy": "2023-01-05T21:39:59.457730Z",
          "iopub.execute_input": "2023-01-05T21:39:59.458098Z",
          "iopub.status.idle": "2023-01-05T21:39:59.469438Z",
          "shell.execute_reply.started": "2023-01-05T21:39:59.458067Z",
          "shell.execute_reply": "2023-01-05T21:39:59.468548Z"
        },
        "trusted": true,
        "id": "-Lt4gxZLAk8L",
        "outputId": "0d19148b-b4f0-4686-f2b6-f6f82762a684"
      },
      "execution_count": null,
      "outputs": [
        {
          "execution_count": 50,
          "output_type": "execute_result",
          "data": {
            "text/plain": "0.9252064108790675"
          },
          "metadata": {}
        }
      ]
    },
    {
      "cell_type": "code",
      "source": [
        "from sklearn.metrics import accuracy_score"
      ],
      "metadata": {
        "execution": {
          "iopub.status.busy": "2023-01-05T21:34:45.544220Z",
          "iopub.execute_input": "2023-01-05T21:34:45.544594Z",
          "iopub.status.idle": "2023-01-05T21:34:45.549585Z",
          "shell.execute_reply.started": "2023-01-05T21:34:45.544556Z",
          "shell.execute_reply": "2023-01-05T21:34:45.548425Z"
        },
        "trusted": true,
        "id": "NcQwNqTKAk8L"
      },
      "execution_count": null,
      "outputs": []
    },
    {
      "cell_type": "code",
      "source": [
        "accuracy_score(submission['class'], test_data['target'])"
      ],
      "metadata": {
        "execution": {
          "iopub.status.busy": "2023-01-05T21:36:48.115387Z",
          "iopub.execute_input": "2023-01-05T21:36:48.115819Z",
          "iopub.status.idle": "2023-01-05T21:36:48.125088Z",
          "shell.execute_reply.started": "2023-01-05T21:36:48.115783Z",
          "shell.execute_reply": "2023-01-05T21:36:48.123976Z"
        },
        "trusted": true,
        "id": "8BVe62VpAk8L",
        "outputId": "aca60751-bfc0-431d-d060-2fe4c26e7824"
      },
      "execution_count": null,
      "outputs": [
        {
          "execution_count": 45,
          "output_type": "execute_result",
          "data": {
            "text/plain": "0.9252064108790675"
          },
          "metadata": {}
        }
      ]
    },
    {
      "cell_type": "code",
      "source": [
        "f1_score(submission['class'], test_data['target'], average='macro')"
      ],
      "metadata": {
        "execution": {
          "iopub.status.busy": "2023-01-05T21:59:20.252979Z",
          "iopub.execute_input": "2023-01-05T21:59:20.253380Z",
          "iopub.status.idle": "2023-01-05T21:59:20.264022Z",
          "shell.execute_reply.started": "2023-01-05T21:59:20.253346Z",
          "shell.execute_reply": "2023-01-05T21:59:20.262674Z"
        },
        "trusted": true,
        "id": "PA-arAEeAk8M",
        "outputId": "e147e4c3-d4af-4aba-bb4c-ccb87dc572c0"
      },
      "execution_count": null,
      "outputs": [
        {
          "execution_count": 72,
          "output_type": "execute_result",
          "data": {
            "text/plain": "0.9232973148691689"
          },
          "metadata": {}
        }
      ]
    },
    {
      "cell_type": "code",
      "source": [
        "test_data['target'].shape"
      ],
      "metadata": {
        "execution": {
          "iopub.status.busy": "2023-01-05T21:35:28.615974Z",
          "iopub.execute_input": "2023-01-05T21:35:28.616446Z",
          "iopub.status.idle": "2023-01-05T21:35:28.623858Z",
          "shell.execute_reply.started": "2023-01-05T21:35:28.616411Z",
          "shell.execute_reply": "2023-01-05T21:35:28.622975Z"
        },
        "trusted": true,
        "id": "-dDj1SvaAk8M",
        "outputId": "66a8c8cc-1fcd-41e6-97ca-33c17014e159"
      },
      "execution_count": null,
      "outputs": [
        {
          "execution_count": 40,
          "output_type": "execute_result",
          "data": {
            "text/plain": "(2059,)"
          },
          "metadata": {}
        }
      ]
    },
    {
      "cell_type": "code",
      "source": [
        "submission['class'].value_counts()"
      ],
      "metadata": {
        "execution": {
          "iopub.status.busy": "2023-01-05T21:53:02.827466Z",
          "iopub.execute_input": "2023-01-05T21:53:02.827807Z",
          "iopub.status.idle": "2023-01-05T21:53:02.837818Z",
          "shell.execute_reply.started": "2023-01-05T21:53:02.827778Z",
          "shell.execute_reply": "2023-01-05T21:53:02.836881Z"
        },
        "trusted": true,
        "id": "FJFXzYLzAk8N",
        "outputId": "83646e4d-2b4f-463d-cee9-95709bc05a81"
      },
      "execution_count": null,
      "outputs": [
        {
          "execution_count": 68,
          "output_type": "execute_result",
          "data": {
            "text/plain": " 1    782\n-1    660\n 0    617\nName: class, dtype: int64"
          },
          "metadata": {}
        }
      ]
    },
    {
      "cell_type": "code",
      "source": [
        "len(test_data['target'])"
      ],
      "metadata": {
        "execution": {
          "iopub.status.busy": "2023-01-05T21:41:31.944607Z",
          "iopub.execute_input": "2023-01-05T21:41:31.945002Z",
          "iopub.status.idle": "2023-01-05T21:41:31.950994Z",
          "shell.execute_reply.started": "2023-01-05T21:41:31.944970Z",
          "shell.execute_reply": "2023-01-05T21:41:31.949989Z"
        },
        "trusted": true,
        "id": "8rI1eSZ-Ak8N",
        "outputId": "33db79f4-3958-4fc9-f757-251f86bad4d0"
      },
      "execution_count": null,
      "outputs": [
        {
          "execution_count": 53,
          "output_type": "execute_result",
          "data": {
            "text/plain": "2059"
          },
          "metadata": {}
        }
      ]
    },
    {
      "cell_type": "code",
      "source": [
        "from sklearn.metrics import classification_report\n",
        "from sklearn.metrics import confusion_matrix\n",
        "from sklearn.metrics import f1_score\n",
        "print(classification_report(submission['class'], test_data['target'], labels=[-1, 0, 1]))"
      ],
      "metadata": {
        "execution": {
          "iopub.status.busy": "2023-01-05T21:57:43.521522Z",
          "iopub.execute_input": "2023-01-05T21:57:43.521883Z",
          "iopub.status.idle": "2023-01-05T21:57:43.536614Z",
          "shell.execute_reply.started": "2023-01-05T21:57:43.521852Z",
          "shell.execute_reply": "2023-01-05T21:57:43.535360Z"
        },
        "trusted": true,
        "id": "1r5wI49kAk8N",
        "outputId": "6a82c14b-f544-47a1-8a31-c1c34da24176"
      },
      "execution_count": null,
      "outputs": [
        {
          "name": "stdout",
          "text": "              precision    recall  f1-score   support\n\n          -1       0.93      0.95      0.94       660\n           0       0.91      0.87      0.89       617\n           1       0.93      0.95      0.94       782\n\n    accuracy                           0.93      2059\n   macro avg       0.92      0.92      0.92      2059\nweighted avg       0.92      0.93      0.92      2059\n\n",
          "output_type": "stream"
        }
      ]
    },
    {
      "cell_type": "code",
      "source": [
        "class_names=['negative', 'Neutral', 'Positive']\n",
        "def show_confusion_matrix(confusion_matrix):\n",
        "    hmap = sns.heatmap(confusion_matrix, annot=True, fmt=\"d\", cmap=\"Blues\")\n",
        "    hmap.yaxis.set_ticklabels(hmap.yaxis.get_ticklabels(), rotation=0, ha='right')\n",
        "    hmap.xaxis.set_ticklabels(hmap.xaxis.get_ticklabels(), rotation=30, ha='right')\n",
        "    plt.ylabel('True sentiment')\n",
        "    plt.xlabel('Predicted sentiment');\n",
        "\n",
        "cm = confusion_matrix(submission['class'], test_data['target'])\n",
        "df_cm = pd.DataFrame(cm, index=class_names, columns=class_names)\n",
        "show_confusion_matrix(df_cm)"
      ],
      "metadata": {
        "execution": {
          "iopub.status.busy": "2023-01-05T21:56:35.095742Z",
          "iopub.execute_input": "2023-01-05T21:56:35.096130Z",
          "iopub.status.idle": "2023-01-05T21:56:35.355939Z",
          "shell.execute_reply.started": "2023-01-05T21:56:35.096097Z",
          "shell.execute_reply": "2023-01-05T21:56:35.355026Z"
        },
        "trusted": true,
        "id": "Be3T1pUBAk8O",
        "outputId": "44c3fa0c-fe60-4759-afed-7df3b8c10348"
      },
      "execution_count": null,
      "outputs": [
        {
          "output_type": "display_data",
          "data": {
            "text/plain": "<Figure size 432x288 with 2 Axes>",
            "image/png": "[encoded data removed]"
          },
          "metadata": {
            "needs_background": "light"
          }
        }
      ]
    }
  ]
}